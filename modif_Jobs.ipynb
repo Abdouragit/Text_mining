{
 "cells": [
  {
   "cell_type": "code",
   "execution_count": 157,
   "metadata": {},
   "outputs": [],
   "source": [
    "import pandas as pd"
   ]
  },
  {
   "cell_type": "markdown",
   "metadata": {},
   "source": [
    "## On va ajouter de l'Open Data pour avoir les latitudes, longitudes et les régions complètes."
   ]
  },
  {
   "cell_type": "code",
   "execution_count": 158,
   "metadata": {},
   "outputs": [],
   "source": [
    "jobs = pd.read_csv('Jobs.csv')"
   ]
  },
  {
   "cell_type": "code",
   "execution_count": 159,
   "metadata": {},
   "outputs": [],
   "source": [
    "cities = pd.read_csv('cities.csv',sep=';')"
   ]
  },
  {
   "cell_type": "code",
   "execution_count": 160,
   "metadata": {},
   "outputs": [],
   "source": [
    "cities['ville'] = cities['ville'].str.upper()\n",
    "jobs['ville'] = jobs['ville'].str.upper()"
   ]
  },
  {
   "cell_type": "code",
   "execution_count": 161,
   "metadata": {},
   "outputs": [],
   "source": [
    "#on enlève les doublons\n",
    "cities = cities.drop_duplicates(subset='ville')"
   ]
  },
  {
   "cell_type": "code",
   "execution_count": 162,
   "metadata": {},
   "outputs": [
    {
     "name": "stdout",
     "output_type": "stream",
     "text": [
      "0\n"
     ]
    }
   ],
   "source": [
    "nombre_de_doublons = cities.duplicated().sum()\n",
    "print(nombre_de_doublons)"
   ]
  },
  {
   "cell_type": "code",
   "execution_count": 163,
   "metadata": {},
   "outputs": [
    {
     "data": {
      "text/html": [
       "<div>\n",
       "<style scoped>\n",
       "    .dataframe tbody tr th:only-of-type {\n",
       "        vertical-align: middle;\n",
       "    }\n",
       "\n",
       "    .dataframe tbody tr th {\n",
       "        vertical-align: top;\n",
       "    }\n",
       "\n",
       "    .dataframe thead th {\n",
       "        text-align: right;\n",
       "    }\n",
       "</style>\n",
       "<table border=\"1\" class=\"dataframe\">\n",
       "  <thead>\n",
       "    <tr style=\"text-align: right;\">\n",
       "      <th></th>\n",
       "      <th>ville</th>\n",
       "      <th>code_postal</th>\n",
       "      <th>latitude</th>\n",
       "      <th>longitude</th>\n",
       "      <th>department_name</th>\n",
       "      <th>region</th>\n",
       "    </tr>\n",
       "  </thead>\n",
       "  <tbody>\n",
       "    <tr>\n",
       "      <th>0</th>\n",
       "      <td>VILLE DU PONT</td>\n",
       "      <td>25650</td>\n",
       "      <td>46.999873</td>\n",
       "      <td>6.498147</td>\n",
       "      <td>doubs</td>\n",
       "      <td>bourgogne-franche-comté</td>\n",
       "    </tr>\n",
       "    <tr>\n",
       "      <th>1</th>\n",
       "      <td>VILLERS GRELOT</td>\n",
       "      <td>25640</td>\n",
       "      <td>47.361512</td>\n",
       "      <td>6.235167</td>\n",
       "      <td>doubs</td>\n",
       "      <td>bourgogne-franche-comté</td>\n",
       "    </tr>\n",
       "    <tr>\n",
       "      <th>2</th>\n",
       "      <td>VILLARS LES BLAMONT</td>\n",
       "      <td>25310</td>\n",
       "      <td>47.368384</td>\n",
       "      <td>6.871415</td>\n",
       "      <td>doubs</td>\n",
       "      <td>bourgogne-franche-comté</td>\n",
       "    </tr>\n",
       "    <tr>\n",
       "      <th>3</th>\n",
       "      <td>LES VILLEDIEU</td>\n",
       "      <td>25240</td>\n",
       "      <td>46.713906</td>\n",
       "      <td>6.265831</td>\n",
       "      <td>doubs</td>\n",
       "      <td>bourgogne-franche-comté</td>\n",
       "    </tr>\n",
       "    <tr>\n",
       "      <th>4</th>\n",
       "      <td>VILLERS BUZON</td>\n",
       "      <td>25170</td>\n",
       "      <td>47.228558</td>\n",
       "      <td>5.852187</td>\n",
       "      <td>doubs</td>\n",
       "      <td>bourgogne-franche-comté</td>\n",
       "    </tr>\n",
       "    <tr>\n",
       "      <th>...</th>\n",
       "      <td>...</td>\n",
       "      <td>...</td>\n",
       "      <td>...</td>\n",
       "      <td>...</td>\n",
       "      <td>...</td>\n",
       "      <td>...</td>\n",
       "    </tr>\n",
       "    <tr>\n",
       "      <th>39140</th>\n",
       "      <td>THIO</td>\n",
       "      <td>98829</td>\n",
       "      <td>NaN</td>\n",
       "      <td>NaN</td>\n",
       "      <td>nouvelle-calédonie</td>\n",
       "      <td>nouvelle-calédonie</td>\n",
       "    </tr>\n",
       "    <tr>\n",
       "      <th>39141</th>\n",
       "      <td>VOH</td>\n",
       "      <td>98833</td>\n",
       "      <td>NaN</td>\n",
       "      <td>NaN</td>\n",
       "      <td>nouvelle-calédonie</td>\n",
       "      <td>nouvelle-calédonie</td>\n",
       "    </tr>\n",
       "    <tr>\n",
       "      <th>39142</th>\n",
       "      <td>YATE</td>\n",
       "      <td>98834</td>\n",
       "      <td>NaN</td>\n",
       "      <td>NaN</td>\n",
       "      <td>nouvelle-calédonie</td>\n",
       "      <td>nouvelle-calédonie</td>\n",
       "    </tr>\n",
       "    <tr>\n",
       "      <th>39143</th>\n",
       "      <td>SIGAVE</td>\n",
       "      <td>98620</td>\n",
       "      <td>-14.270411</td>\n",
       "      <td>-178.155263</td>\n",
       "      <td>wallis-et-futuna</td>\n",
       "      <td>wallis-et-futuna</td>\n",
       "    </tr>\n",
       "    <tr>\n",
       "      <th>39144</th>\n",
       "      <td>UVEA</td>\n",
       "      <td>98600</td>\n",
       "      <td>-13.281863</td>\n",
       "      <td>-176.161928</td>\n",
       "      <td>wallis-et-futuna</td>\n",
       "      <td>wallis-et-futuna</td>\n",
       "    </tr>\n",
       "  </tbody>\n",
       "</table>\n",
       "<p>32759 rows × 6 columns</p>\n",
       "</div>"
      ],
      "text/plain": [
       "                     ville  code_postal   latitude   longitude  \\\n",
       "0            VILLE DU PONT        25650  46.999873    6.498147   \n",
       "1           VILLERS GRELOT        25640  47.361512    6.235167   \n",
       "2      VILLARS LES BLAMONT        25310  47.368384    6.871415   \n",
       "3            LES VILLEDIEU        25240  46.713906    6.265831   \n",
       "4            VILLERS BUZON        25170  47.228558    5.852187   \n",
       "...                    ...          ...        ...         ...   \n",
       "39140                 THIO        98829        NaN         NaN   \n",
       "39141                  VOH        98833        NaN         NaN   \n",
       "39142                 YATE        98834        NaN         NaN   \n",
       "39143               SIGAVE        98620 -14.270411 -178.155263   \n",
       "39144                 UVEA        98600 -13.281863 -176.161928   \n",
       "\n",
       "          department_name                   region  \n",
       "0                   doubs  bourgogne-franche-comté  \n",
       "1                   doubs  bourgogne-franche-comté  \n",
       "2                   doubs  bourgogne-franche-comté  \n",
       "3                   doubs  bourgogne-franche-comté  \n",
       "4                   doubs  bourgogne-franche-comté  \n",
       "...                   ...                      ...  \n",
       "39140  nouvelle-calédonie       nouvelle-calédonie  \n",
       "39141  nouvelle-calédonie       nouvelle-calédonie  \n",
       "39142  nouvelle-calédonie       nouvelle-calédonie  \n",
       "39143    wallis-et-futuna         wallis-et-futuna  \n",
       "39144    wallis-et-futuna         wallis-et-futuna  \n",
       "\n",
       "[32759 rows x 6 columns]"
      ]
     },
     "execution_count": 163,
     "metadata": {},
     "output_type": "execute_result"
    }
   ],
   "source": [
    "cities"
   ]
  },
  {
   "cell_type": "code",
   "execution_count": 164,
   "metadata": {},
   "outputs": [],
   "source": [
    "#on enlève les doublons\n",
    "jobs = jobs.drop_duplicates()"
   ]
  },
  {
   "cell_type": "code",
   "execution_count": 165,
   "metadata": {},
   "outputs": [
    {
     "name": "stdout",
     "output_type": "stream",
     "text": [
      "0\n"
     ]
    }
   ],
   "source": [
    "nombre_de_doublons = jobs.duplicated().sum()\n",
    "print(nombre_de_doublons)"
   ]
  },
  {
   "cell_type": "code",
   "execution_count": 166,
   "metadata": {},
   "outputs": [],
   "source": [
    "columns_to_drop = ['commune', 'latitude', 'longitude', 'codePostal']\n",
    "jobs = jobs.drop(columns=columns_to_drop)"
   ]
  },
  {
   "cell_type": "code",
   "execution_count": 167,
   "metadata": {},
   "outputs": [
    {
     "name": "stdout",
     "output_type": "stream",
     "text": [
      "<class 'pandas.core.frame.DataFrame'>\n",
      "Int64Index: 417 entries, 0 to 451\n",
      "Data columns (total 14 columns):\n",
      " #   Column                  Non-Null Count  Dtype \n",
      "---  ------                  --------------  ----- \n",
      " 0   intitule                417 non-null    object\n",
      " 1   description_offre       417 non-null    object\n",
      " 2   dateCreation            417 non-null    object\n",
      " 3   typeContrat             417 non-null    object\n",
      " 4   experienceExige         242 non-null    object\n",
      " 5   qualificationLibelle    266 non-null    object\n",
      " 6   secteurActiviteLibelle  290 non-null    object\n",
      " 7   departement             417 non-null    object\n",
      " 8   ville                   370 non-null    object\n",
      " 9   experienceOuiNon        417 non-null    object\n",
      " 10  entreprise_nom          297 non-null    object\n",
      " 11  entreprise_description  277 non-null    object\n",
      " 12  salaire                 236 non-null    object\n",
      " 13  profils                 175 non-null    object\n",
      "dtypes: object(14)\n",
      "memory usage: 48.9+ KB\n"
     ]
    }
   ],
   "source": [
    "jobs.info()"
   ]
  },
  {
   "cell_type": "code",
   "execution_count": 168,
   "metadata": {},
   "outputs": [],
   "source": [
    "df = pd.merge(jobs, cities, how='left', on='ville')"
   ]
  },
  {
   "cell_type": "code",
   "execution_count": 169,
   "metadata": {},
   "outputs": [
    {
     "name": "stdout",
     "output_type": "stream",
     "text": [
      "<class 'pandas.core.frame.DataFrame'>\n",
      "Int64Index: 417 entries, 0 to 416\n",
      "Data columns (total 19 columns):\n",
      " #   Column                  Non-Null Count  Dtype  \n",
      "---  ------                  --------------  -----  \n",
      " 0   intitule                417 non-null    object \n",
      " 1   description_offre       417 non-null    object \n",
      " 2   dateCreation            417 non-null    object \n",
      " 3   typeContrat             417 non-null    object \n",
      " 4   experienceExige         242 non-null    object \n",
      " 5   qualificationLibelle    266 non-null    object \n",
      " 6   secteurActiviteLibelle  290 non-null    object \n",
      " 7   departement             417 non-null    object \n",
      " 8   ville                   370 non-null    object \n",
      " 9   experienceOuiNon        417 non-null    object \n",
      " 10  entreprise_nom          297 non-null    object \n",
      " 11  entreprise_description  277 non-null    object \n",
      " 12  salaire                 236 non-null    object \n",
      " 13  profils                 175 non-null    object \n",
      " 14  code_postal             314 non-null    float64\n",
      " 15  latitude                314 non-null    float64\n",
      " 16  longitude               314 non-null    float64\n",
      " 17  department_name         314 non-null    object \n",
      " 18  region                  314 non-null    object \n",
      "dtypes: float64(3), object(16)\n",
      "memory usage: 65.2+ KB\n"
     ]
    }
   ],
   "source": [
    "df.info()"
   ]
  },
  {
   "cell_type": "code",
   "execution_count": 170,
   "metadata": {},
   "outputs": [],
   "source": [
    "df['nouvelle_colonne'] = df['profils'] + ' ' + df['description_offre']\n",
    "df = df.drop(columns=['profils'])"
   ]
  },
  {
   "cell_type": "code",
   "execution_count": 171,
   "metadata": {},
   "outputs": [
    {
     "name": "stdout",
     "output_type": "stream",
     "text": [
      "<class 'pandas.core.frame.DataFrame'>\n",
      "Int64Index: 417 entries, 0 to 416\n",
      "Data columns (total 19 columns):\n",
      " #   Column                  Non-Null Count  Dtype  \n",
      "---  ------                  --------------  -----  \n",
      " 0   intitule                417 non-null    object \n",
      " 1   description_offre       417 non-null    object \n",
      " 2   dateCreation            417 non-null    object \n",
      " 3   typeContrat             417 non-null    object \n",
      " 4   experienceExige         242 non-null    object \n",
      " 5   qualificationLibelle    266 non-null    object \n",
      " 6   secteurActiviteLibelle  290 non-null    object \n",
      " 7   departement             417 non-null    object \n",
      " 8   ville                   370 non-null    object \n",
      " 9   experienceOuiNon        417 non-null    object \n",
      " 10  entreprise_nom          297 non-null    object \n",
      " 11  entreprise_description  277 non-null    object \n",
      " 12  salaire                 236 non-null    object \n",
      " 13  code_postal             314 non-null    float64\n",
      " 14  latitude                314 non-null    float64\n",
      " 15  longitude               314 non-null    float64\n",
      " 16  department_name         314 non-null    object \n",
      " 17  region                  314 non-null    object \n",
      " 18  nouvelle_colonne        175 non-null    object \n",
      "dtypes: float64(3), object(16)\n",
      "memory usage: 65.2+ KB\n"
     ]
    }
   ],
   "source": [
    "df.info()"
   ]
  },
  {
   "cell_type": "code",
   "execution_count": 172,
   "metadata": {},
   "outputs": [],
   "source": [
    "df.to_csv('Jobs_V2.csv', index=False)"
   ]
  }
 ],
 "metadata": {
  "kernelspec": {
   "display_name": "base",
   "language": "python",
   "name": "python3"
  },
  "language_info": {
   "codemirror_mode": {
    "name": "ipython",
    "version": 3
   },
   "file_extension": ".py",
   "mimetype": "text/x-python",
   "name": "python",
   "nbconvert_exporter": "python",
   "pygments_lexer": "ipython3",
   "version": "3.9.12"
  }
 },
 "nbformat": 4,
 "nbformat_minor": 2
}
