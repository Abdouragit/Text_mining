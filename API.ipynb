{
 "cells": [
  {
   "cell_type": "code",
   "execution_count": null,
   "metadata": {},
   "outputs": [],
   "source": [
    "pip install 'requests'"
   ]
  },
  {
   "cell_type": "code",
   "execution_count": 123,
   "metadata": {},
   "outputs": [],
   "source": [
    "import requests\n",
    "import pandas as pd\n",
    "import numpy as np\n",
    "import json"
   ]
  },
  {
   "cell_type": "markdown",
   "metadata": {},
   "source": [
    "To be able to use the Pôle Emploi API, we need to generate an access token with the client identifier and the secret key provided beforehand, which expires after 24 minutes. \n",
    "Once we have the access token, we can query the API and retrieve the job offers in JSON format.\n",
    "Étape 1: Demander un 'access token' à Pôle Emploi Access Management en spécifiant les API souhaitées et l'id et secret.\n",
    "    Pôle emploi access management génère et transmet un 'access token' valable pendant 24 minutes.\n",
    "Étape 2: requêter une API: on fourni l'access token à chaque interrogation d'une API"
   ]
  },
  {
   "cell_type": "markdown",
   "metadata": {},
   "source": [
    "Étape 1:"
   ]
  },
  {
   "cell_type": "code",
   "execution_count": 124,
   "metadata": {},
   "outputs": [],
   "source": [
    "# URL pour obtenir le jeton d'accès\n",
    "token_url = 'https://entreprise.pole-emploi.fr/connexion/oauth2/access_token?realm=%2Fpartenaire'\n",
    "\n",
    "# Remplacez 'VOTRE_IDENTIFIANT_CLIENT' et 'VOTRE_CLE_SECRETE' par les valeurs réelles fournies par Pôle Emploi\n",
    "client_id = 'PAR_poleemploijobsscrapin_4280e6316989cfda7bc759c90500ef347cc95780c6b1d5b67cca3db6c6d373d1'\n",
    "client_secret = '70d252725959266d147615699b09d63746184cec836d7ff41f1bec6427215373'\n",
    "# Scopes autorisés pour votre application\n",
    "scopes = 'api_offresdemploiv2 o2dsoffre'  # Remplacez par les scopes valides pour votre application\n",
    "\n",
    "# Corps de la requête avec ces paramètres\n",
    "token_params = {\n",
    "    'grant_type': 'client_credentials',\n",
    "    'client_id': client_id,\n",
    "    'client_secret': client_secret,\n",
    "    'scope': scopes\n",
    "}\n",
    "\n",
    "# En-tête de la requête\n",
    "headers = {\n",
    "    'Content-Type': 'application/x-www-form-urlencoded'\n",
    "}\n",
    "\n",
    "# Faire la requête pour obtenir le jeton d'accès\n",
    "# Demander l'access token avec 'post'\n",
    "response = requests.post(token_url, data=token_params, headers=headers)\n",
    "access_token=response.json().get('access_token')\n"
   ]
  },
  {
   "cell_type": "markdown",
   "metadata": {},
   "source": [
    "Étape 2:"
   ]
  },
  {
   "cell_type": "code",
   "execution_count": 125,
   "metadata": {},
   "outputs": [],
   "source": [
    "# Requêter l'API avec 'get':\n",
    "# Soit on spécifie les paramètres dans l'url soit on les mets dans une liste 'params'\n",
    "#url = 'https://api.pole-emploi.io/partenaire/offresdemploi/v2/offres/search?range=0-2&sort=1&motsCles=data%20engineer'\n",
    "url = 'https://api.pole-emploi.io/partenaire/offresdemploi/v2/offres/search'\n",
    "\n",
    "headers = {\n",
    "    'Authorization': f'Bearer {access_token}'\n",
    "}\n",
    "\n",
    "#Boucle pour faire une requête pour chaque mot-clé:\n",
    "mots_cles_list = ['data engineer', 'data scientist']\n",
    "responses= []\n",
    "for mots_cles in mots_cles_list:\n",
    "    params = {\n",
    "    'range': '0-149',\n",
    "    'sort': '1',\n",
    "    'motsCles': mots_cles,\n",
    "    }\n",
    "\n",
    "    # Faire la requête avec les en-têtes d'authentification\n",
    "    reponse = requests.get(url, headers=headers, params=params)\n",
    "    responses.append(reponse.json())\n",
    "\n",
    "responses_json = json.dumps(responses)\n",
    "responses_list = json.loads(responses_json)\n",
    "resultats_list = [item['resultats'] for item in responses_list]\n",
    "resultats_concat = [resultat for sublist in resultats_list for resultat in sublist]\n",
    "df = pd.DataFrame(resultats_concat)"
   ]
  },
  {
   "cell_type": "code",
   "execution_count": null,
   "metadata": {},
   "outputs": [],
   "source": [
    "lieu_travail_df = pd.json_normalize(df['lieuTravail'])\n",
    "df = pd.concat([df, lieu_travail_df], axis=1)\n",
    "df = df.drop(columns=['lieuTravail'])"
   ]
  },
  {
   "cell_type": "code",
   "execution_count": 130,
   "metadata": {},
   "outputs": [],
   "source": [
    "# Division de la colonne \"libelle\" en \"Dept\" et \"Ville\"\n",
    "df_Dept_ville = df[\"libelle\"].str.split(\" - \", expand=True)\n",
    "df_Dept_ville.columns = [\"Dept\", \"Ville\"]\n",
    "\n",
    "# Création des nouvelles colonnes \"Departement\" et \"Ville\" dans le dataframe\n",
    "df[\"departement\"] = df_Dept_ville[\"Dept\"]\n",
    "df[\"ville\"] = df_Dept_ville[\"Ville\"]\n",
    "df = df.drop(columns=['libelle'])"
   ]
  },
  {
   "cell_type": "code",
   "execution_count": 131,
   "metadata": {},
   "outputs": [],
   "source": [
    "df['experienceOuiNon'] = np.where(df['experienceExige'] == 'D', 'non', np.where(df['experienceExige'].isin(['E', 'S']), 'oui', None))\n"
   ]
  },
  {
   "cell_type": "code",
   "execution_count": null,
   "metadata": {},
   "outputs": [],
   "source": [
    "df.columns.values[2] = 'description_offre'\n",
    "entreprise_df = pd.json_normalize(df['entreprise'])\n",
    "df = pd.concat([df, entreprise_df], axis=1)\n",
    "df = df.drop(columns=['entreprise'])"
   ]
  },
  {
   "cell_type": "code",
   "execution_count": 136,
   "metadata": {},
   "outputs": [],
   "source": [
    "df= df.rename(columns= {'description' : 'entreprise_description', 'nom':'entreprise_nom'})"
   ]
  },
  {
   "cell_type": "code",
   "execution_count": 142,
   "metadata": {},
   "outputs": [],
   "source": [
    "#Garder que les colonnes nécessaires\n",
    "colonnes_conserver = ['intitule', 'description_offre', 'dateActualisation', 'typeContrat', 'experienceExige','experienceOuiNon','latitude', 'longitude', 'codePostal', 'commune','departement','ville', 'entreprise_description', 'entreprise_nom', 'salaire', 'secteurActiviteLibelle', 'qualificationLibelle']  \n",
    "df = df.drop(columns=df.columns.difference(colonnes_conserver))"
   ]
  },
  {
   "cell_type": "code",
   "execution_count": 145,
   "metadata": {},
   "outputs": [],
   "source": [
    "df.to_csv('Jobs_PoleEmploi.csv', index=False)"
   ]
  }
 ],
 "metadata": {
  "kernelspec": {
   "display_name": "Python 3",
   "language": "python",
   "name": "python3"
  },
  "language_info": {
   "codemirror_mode": {
    "name": "ipython",
    "version": 3
   },
   "file_extension": ".py",
   "mimetype": "text/x-python",
   "name": "python",
   "nbconvert_exporter": "python",
   "pygments_lexer": "ipython3",
   "version": "3.10.11"
  }
 },
 "nbformat": 4,
 "nbformat_minor": 2
}
