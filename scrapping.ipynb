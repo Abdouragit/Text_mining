{
 "cells": [
  {
   "cell_type": "code",
   "execution_count": null,
   "metadata": {},
   "outputs": [],
   "source": [
    "%pip install chromedriver-autoinstaller"
   ]
  },
  {
   "cell_type": "code",
   "execution_count": null,
   "metadata": {},
   "outputs": [],
   "source": [
    "%pip install selenium"
   ]
  },
  {
   "cell_type": "code",
   "execution_count": null,
   "metadata": {},
   "outputs": [],
   "source": [
    "%pip install pandas"
   ]
  },
  {
   "cell_type": "code",
   "execution_count": null,
   "metadata": {},
   "outputs": [],
   "source": [
    "%pip install 'requests'"
   ]
  },
  {
   "cell_type": "code",
   "execution_count": null,
   "metadata": {},
   "outputs": [],
   "source": [
    "# Installe automatiquement le Chromedriver approprié pour le système\n",
    "chromedriver_autoinstaller.install\n",
    "#ou chromedriver_autoinstaller.install()"
   ]
  },
  {
   "cell_type": "code",
   "execution_count": 59,
   "metadata": {},
   "outputs": [],
   "source": [
    "import chromedriver_autoinstaller\n",
    "import pandas as pd\n",
    "import numpy as np\n",
    "from selenium import webdriver\n",
    "from selenium.webdriver.common.by import By\n",
    "from selenium.webdriver.support.ui import WebDriverWait\n",
    "from selenium.webdriver.support import expected_conditions as EC\n",
    "import requests\n",
    "import json\n",
    "from datetime import datetime"
   ]
  },
  {
   "cell_type": "markdown",
   "metadata": {},
   "source": [
    "## Étape 1: Scrapping du site de l'APEC"
   ]
  },
  {
   "cell_type": "markdown",
   "metadata": {},
   "source": [
    "## Data ingénieur"
   ]
  },
  {
   "cell_type": "markdown",
   "metadata": {},
   "source": [
    "Normalement y'a juste à faire tourner le code, ça va ouvrir automatiquement le site de l'APEC sur ton navigateur (c'est config pour Chrome).  \n",
    "Ça met environ 1h à tourner (ça dépend probablement de la qualité du wifi).  \n",
    "Tu devrais recup entre 2000 et 3000 annonces."
   ]
  },
  {
   "cell_type": "code",
   "execution_count": null,
   "metadata": {},
   "outputs": [],
   "source": [
    "\n",
    "# Utiliser Selenium pour charger la page web\n",
    "url = \"https://www.apec.fr/candidat/recherche-emploi.html/emploi?motsCles=ing%C3%A9nieur%20Data&typesConvention=143684&typesConvention=143685&typesConvention=143686&typesConvention=143687&page=0\"\n",
    "driver = webdriver.Chrome()\n",
    "driver.get(url)\n",
    "\n",
    "# Attendre que les éléments des offres d'emploi soient chargés\n",
    "driver.implicitly_wait(10)  # Attendre jusqu'à 10 secondes au maximum\n",
    "\n",
    "# Cliquer sur le bouton de refus des cookies en utilisant une approche différente\n",
    "try:\n",
    "    # Attendre que le bouton soit cliquable\n",
    "    reject_button = WebDriverWait(driver, 10).until(\n",
    "        EC.element_to_be_clickable((By.XPATH, '//*[@id=\"onetrust-reject-all-handler\"]'))\n",
    "    )\n",
    "    reject_button.click()\n",
    "except Exception as e:\n",
    "    print(f\"Erreur lors du clic sur le bouton de refus des cookies : {e}\")\n",
    "\n",
    "# Initialiser des listes pour stocker les informations \n",
    "titles_list = []\n",
    "description_list = []\n",
    "profil_list = []\n",
    "info_entreprise_list = []\n",
    "type_contrat_list = []\n",
    "lieu_list = []\n",
    "date_publication_list = []\n",
    "salaire_list = []\n",
    "niveau_experience_list = []\n",
    "statut_poste_list = []\n",
    "secteur_activite_list = []\n",
    "#langues_list = []\n",
    "entreprise_list = []\n",
    "\n",
    "# Boucle pour parcourir les pages\n",
    "while True:\n",
    "    # Récupérer le nombre d'offres\n",
    "    offers_count = len(driver.find_elements(By.XPATH, '/html/body/main/div/apec-offres/div/apec-recherche-emploi/section/div[2]/div[3]/div/div/div[2]/div[2]/div/a/apec-recherche-resultat/div/div'))\n",
    "\n",
    "    # Récupérer les titres, descriptions et profils de chaque offre\n",
    "    for i in range(1, offers_count + 1):\n",
    "        try:\n",
    "            # Récupérer le nom de l'entreprise avant de cliquer sur l'offre\n",
    "            entreprise_xpath = f'/html/body/main/div/apec-offres/div/apec-recherche-emploi/section/div[2]/div[3]/div/div/div[2]/div[2]/div[{i}]/a/apec-recherche-resultat/div/div/div/div[2]/p[1]'\n",
    "            entreprise_element = driver.find_element(By.XPATH, entreprise_xpath)\n",
    "            entreprise = entreprise_element.text\n",
    "                \n",
    "            lieu_xpath = f'/html/body/main/div/apec-offres/div/apec-recherche-emploi/section/div[2]/div[3]/div/div/div[2]/div[2]/div[{i}]/a/apec-recherche-resultat/div/div/div/div[2]/ul[2]/li[2]'\n",
    "            lieu_element = driver.find_element(By.XPATH, lieu_xpath)\n",
    "            lieu = lieu_element.text\n",
    "\n",
    "            type_contrat_xpath = f'/html/body/main/div/apec-offres/div/apec-recherche-emploi/section/div[2]/div[3]/div/div/div[2]/div[2]/div[{i}]/a/apec-recherche-resultat/div/div/div/div[2]/ul[2]/li[1]'\n",
    "            type_contrat_element = driver.find_element(By.XPATH, type_contrat_xpath)\n",
    "            type_contrat = type_contrat_element.text\n",
    "\n",
    "            date_publication_xpath = f'/html/body/main/div/apec-offres/div/apec-recherche-emploi/section/div[2]/div[3]/div/div/div[2]/div[2]/div[{i}]/a/apec-recherche-resultat/div/div/div/div[2]/ul[2]/li[3]'\n",
    "            date_publication_element = driver.find_element(By.XPATH, date_publication_xpath)\n",
    "            date_publication = date_publication_element.text\n",
    "\n",
    "            # Cliquer sur l'offre\n",
    "            offer_xpath = f'/html/body/main/div/apec-offres/div/apec-recherche-emploi/section/div[2]/div[3]/div/div/div[2]/div[2]/div[{i}]/a/apec-recherche-resultat/div/div'\n",
    "            offer = driver.find_element(By.XPATH, offer_xpath)\n",
    "            offer.click()\n",
    "\n",
    "            # Attendre que les informations soient visibles\n",
    "            title_element = WebDriverWait(driver, 10).until(\n",
    "                EC.visibility_of_element_located((By.XPATH, '/html/body/main/div/apec-offres/div/apec-detail-emploi/apec-header-nav/div/div/div/div/nav/div/div/h1'))\n",
    "            )\n",
    "            title = title_element.text\n",
    "\n",
    "            description_element = WebDriverWait(driver, 10).until(\n",
    "                EC.visibility_of_element_located((By.XPATH, '/html/body/main/div/apec-offres/div/apec-detail-emploi/div/div/div[2]/article/div/div/apec-poste-informations/div/div[2]/div[1]/p[1]'))\n",
    "            )\n",
    "            description = description_element.text\n",
    "\n",
    "            profil_element = WebDriverWait(driver, 10).until(\n",
    "                EC.visibility_of_element_located((By.XPATH, '/html/body/main/div/apec-offres/div/apec-detail-emploi/div/div/div[2]/article/div/div/apec-poste-informations/div/div[2]/div[1]/p[2]'))\n",
    "            )\n",
    "            profil = profil_element.text\n",
    "\n",
    "            info_entreprise_element = WebDriverWait(driver, 10).until(\n",
    "                EC.visibility_of_element_located((By.XPATH, '/html/body/main/div/apec-offres/div/apec-detail-emploi/div/div/div[2]/article/div/div/apec-poste-informations/div/div[2]/div[1]/div[4]/p'))\n",
    "            )\n",
    "            info_entreprise = info_entreprise_element.text\n",
    "\n",
    "            salaire_element = WebDriverWait(driver, 10).until(\n",
    "                EC.visibility_of_element_located((By.XPATH, '/html/body/main/div/apec-offres/div/apec-detail-emploi/div/div/div[2]/article/div/div/apec-poste-informations/div/div[1]/div[1]/span'))\n",
    "            )\n",
    "            salaire = salaire_element.text\n",
    "\n",
    "            niveau_experience_element = WebDriverWait(driver, 10).until(\n",
    "                EC.visibility_of_element_located((By.XPATH, '/html/body/main/div/apec-offres/div/apec-detail-emploi/div/div/div[2]/article/div/div/apec-poste-informations/div/div[1]/div[3]/span'))\n",
    "            )\n",
    "            niveau_experience = niveau_experience_element.text\n",
    "\n",
    "            statut_poste_element = WebDriverWait(driver, 10).until(\n",
    "                EC.visibility_of_element_located((By.XPATH, '/html/body/main/div/apec-offres/div/apec-detail-emploi/div/div/div[2]/article/div/div/apec-poste-informations/div/div[1]/div[5]/span'))\n",
    "            )\n",
    "            statut_poste = statut_poste_element.text\n",
    "\n",
    "            secteur_activite_element = WebDriverWait(driver, 10).until(\n",
    "                EC.visibility_of_element_located((By.XPATH, '/html/body/main/div/apec-offres/div/apec-detail-emploi/div/div/div[2]/article/div/div/apec-poste-informations/div/div[1]/div[7]/span'))\n",
    "            )\n",
    "            secteur_activite = secteur_activite_element.text\n",
    "\n",
    "            #langues_element = WebDriverWait(driver, 10).until(\n",
    "            #    EC.visibility_of_element_located((By.XPATH, '/html/body/main/div/apec-offres/div/apec-detail-emploi/div/div/div[2]/article/div/div/apec-poste-informations/div/div[2]/div[1]/div[1]/div/div[2]/span/div/p/label'))\n",
    "            #)\n",
    "            #langues = langues_element.text\n",
    "\n",
    "            # Ajouter les informations à leurs listes respectives\n",
    "            titles_list.append(title)\n",
    "            description_list.append(description)\n",
    "            profil_list.append(profil)\n",
    "            info_entreprise_list.append(info_entreprise)\n",
    "            type_contrat_list.append(type_contrat)\n",
    "            lieu_list.append(lieu)\n",
    "            date_publication_list.append(date_publication)\n",
    "            salaire_list.append(salaire)\n",
    "            niveau_experience_list.append(niveau_experience)\n",
    "            statut_poste_list.append(statut_poste)\n",
    "            secteur_activite_list.append(secteur_activite)\n",
    "            #langues_list.append(langues)\n",
    "            entreprise_list.append(entreprise)\n",
    "\n",
    "            # Revenir à la page précédente\n",
    "            driver.back()\n",
    "\n",
    "            # Attendre que la page précédente soit chargée\n",
    "            driver.implicitly_wait(5)\n",
    "        except Exception as e:\n",
    "            print(f\"Erreur lors du traitement de l'offre {i} : {e}\")\n",
    "\n",
    "    # Aller à la page suivante\n",
    "    try:\n",
    "        next_page_button = WebDriverWait(driver, 10).until(\n",
    "            EC.element_to_be_clickable((By.XPATH, '/html/body/main/div/apec-offres/div/apec-recherche-emploi/section/div[2]/div[3]/div/div/div[2]/div[2]/div[21]/apec-recherche-pagination/nav/ul/li[8]/a'))\n",
    "        )\n",
    "        next_page_button.click()\n",
    "    except Exception as e:\n",
    "        print(f\"Fin de la pagination : {e}\")\n",
    "        break\n",
    "\n",
    "# Créer un DataFrame à partir des listes d'informations supplémentaires\n",
    "df = pd.DataFrame({\n",
    "    \"Titres\": titles_list, \n",
    "    \"Descriptions\": description_list, \n",
    "    \"Profils\": profil_list,\n",
    "    \"Info Entreprise\": info_entreprise_list,\n",
    "    \"Type Contrat\": type_contrat_list,\n",
    "    \"Lieu\": lieu_list,\n",
    "    \"Date de publication\": date_publication_list,\n",
    "    \"Salaire\": salaire_list,\n",
    "    \"Niveau d'expérience\": niveau_experience_list,\n",
    "    \"Statut du poste\": statut_poste_list,\n",
    "    \"Secteur d'activité\": secteur_activite_list,\n",
    "    #\"Langues\": langues_list\n",
    "    \"Entreprise\": entreprise_list\n",
    "})\n",
    "\n",
    "# Fermer le navigateur\n",
    "driver.quit()\n"
   ]
  },
  {
   "cell_type": "code",
   "execution_count": null,
   "metadata": {},
   "outputs": [],
   "source": [
    "# Filtrer les lignes contenant les mots clés dans la colonne \"Titres\" (environ 150 restants)\n",
    "data_engineer_df = df[df['Titres'].str.contains(r'\\b(data ingénieur|data ingenieur|data engineer)\\b', case=False, na=False)]\n",
    "data_engineer_df.shape"
   ]
  },
  {
   "cell_type": "markdown",
   "metadata": {},
   "source": [
    "## Data scientist"
   ]
  },
  {
   "cell_type": "code",
   "execution_count": null,
   "metadata": {},
   "outputs": [],
   "source": [
    "# URL de base\n",
    "base_url = \"https://www.apec.fr/candidat/recherche-emploi.html/emploi?motsCles=data%20scientist&typesConvention=143684&typesConvention=143685&typesConvention=143686&typesConvention=143687&typesConvention=143706&page=\"\n",
    "\n",
    "# Configuration du navigateur\n",
    "driver = webdriver.Chrome()\n",
    "\n",
    "# Initialiser des listes pour stocker les informations\n",
    "titles_list = []\n",
    "description_list = []\n",
    "profil_list = []\n",
    "info_entreprise_list = []\n",
    "type_contrat_list = []\n",
    "lieu_list = []\n",
    "date_publication_list = []\n",
    "salaire_list = []\n",
    "niveau_experience_list = []\n",
    "statut_poste_list = []\n",
    "secteur_activite_list = []\n",
    "entreprise_list = []\n",
    "\n",
    "# Boucle sur les 4 premières pages\n",
    "for page in range(1, 5):\n",
    "    # Construire l'URL de la page actuelle\n",
    "    url = base_url + str(page)\n",
    "    \n",
    "    # Charger l'URL\n",
    "    driver.get(url)\n",
    "    \n",
    "    # Attendre que les éléments des offres d'emploi soient chargés\n",
    "    driver.implicitly_wait(10)  # Attendre jusqu'à 10 secondes au maximum\n",
    "\n",
    "    # Cliquer sur le bouton de refus des cookies en utilisant une approche différente\n",
    "    try:\n",
    "        # Attendre que le bouton soit cliquable\n",
    "        reject_button = WebDriverWait(driver, 10).until(\n",
    "            EC.element_to_be_clickable((By.XPATH, '//*[@id=\"onetrust-reject-all-handler\"]'))\n",
    "        )\n",
    "        reject_button.click()\n",
    "    except Exception as e:\n",
    "        print(f\"Erreur lors du clic sur le bouton de refus des cookies : {e}\")\n",
    "\n",
    "    # Récupérer le nombre d'offres sur la page actuelle\n",
    "    offers_count = len(driver.find_elements(By.XPATH, '/html/body/main/div/apec-offres/div/apec-recherche-emploi/section/div[2]/div[3]/div/div/div[2]/div[2]/div/a/apec-recherche-resultat/div/div'))\n",
    "\n",
    "    # Récupérer les titres, descriptions et profils de chaque offre sur la page actuelle\n",
    "    for i in range(1, offers_count + 1):\n",
    "        try:\n",
    "            # Récupérer le nom de l'entreprise avant de cliquer sur l'offre\n",
    "            entreprise_xpath = f'/html/body/main/div/apec-offres/div/apec-recherche-emploi/section/div[2]/div[3]/div/div/div[2]/div[2]/div[{i}]/a/apec-recherche-resultat/div/div/div/div[2]/p[1]'\n",
    "            entreprise_element = driver.find_element(By.XPATH, entreprise_xpath)\n",
    "            entreprise = entreprise_element.text\n",
    "            \n",
    "            lieu_xpath = f'/html/body/main/div/apec-offres/div/apec-recherche-emploi/section/div[2]/div[3]/div/div/div[2]/div[2]/div[{i}]/a/apec-recherche-resultat/div/div/div/div[2]/ul[2]/li[2]'\n",
    "            lieu_element = driver.find_element(By.XPATH, lieu_xpath)\n",
    "            lieu = lieu_element.text\n",
    "\n",
    "            type_contrat_xpath = f'/html/body/main/div/apec-offres/div/apec-recherche-emploi/section/div[2]/div[3]/div/div/div[2]/div[2]/div[{i}]/a/apec-recherche-resultat/div/div/div/div[2]/ul[2]/li[1]'\n",
    "            type_contrat_element = driver.find_element(By.XPATH, type_contrat_xpath)\n",
    "            type_contrat = type_contrat_element.text\n",
    "\n",
    "            date_publication_xpath = f'/html/body/main/div/apec-offres/div/apec-recherche-emploi/section/div[2]/div[3]/div/div/div[2]/div[2]/div[{i}]/a/apec-recherche-resultat/div/div/div/div[2]/ul[2]/li[3]'\n",
    "            date_publication_element = driver.find_element(By.XPATH, date_publication_xpath)\n",
    "            date_publication = date_publication_element.text\n",
    "\n",
    "            # Cliquer sur l'offre\n",
    "            offer_xpath = f'/html/body/main/div/apec-offres/div/apec-recherche-emploi/section/div[2]/div[3]/div/div/div[2]/div[2]/div[{i}]/a/apec-recherche-resultat/div/div'\n",
    "            offer = driver.find_element(By.XPATH, offer_xpath)\n",
    "            offer.click()\n",
    "\n",
    "            # Attendre que les informations soient visibles\n",
    "            title_element = WebDriverWait(driver, 10).until(\n",
    "            EC.visibility_of_element_located((By.XPATH, '/html/body/main/div/apec-offres/div/apec-detail-emploi/apec-header-nav/div/div/div/div/nav/div/div/h1'))\n",
    "            )\n",
    "            title = title_element.text\n",
    "\n",
    "            description_element = WebDriverWait(driver, 10).until(\n",
    "            EC.visibility_of_element_located((By.XPATH, '/html/body/main/div/apec-offres/div/apec-detail-emploi/div/div/div[2]/article/div/div/apec-poste-informations/div/div[2]/div[1]/p[1]'))\n",
    "            )\n",
    "            description = description_element.text\n",
    "\n",
    "            profil_element = WebDriverWait(driver, 10).until(\n",
    "            EC.visibility_of_element_located((By.XPATH, '/html/body/main/div/apec-offres/div/apec-detail-emploi/div/div/div[2]/article/div/div/apec-poste-informations/div/div[2]/div[1]/p[2]'))\n",
    "            )\n",
    "            profil = profil_element.text\n",
    "\n",
    "            info_entreprise_element = WebDriverWait(driver, 10).until(\n",
    "            EC.visibility_of_element_located((By.XPATH, '/html/body/main/div/apec-offres/div/apec-detail-emploi/div/div/div[2]/article/div/div/apec-poste-informations/div/div[2]/div[1]/div[4]/p'))\n",
    "            )\n",
    "            info_entreprise = info_entreprise_element.text\n",
    "\n",
    "            salaire_element = WebDriverWait(driver, 10).until(\n",
    "            EC.visibility_of_element_located((By.XPATH, '/html/body/main/div/apec-offres/div/apec-detail-emploi/div/div/div[2]/article/div/div/apec-poste-informations/div/div[1]/div[1]/span'))\n",
    "            )\n",
    "            salaire = salaire_element.text\n",
    "\n",
    "            niveau_experience_element = WebDriverWait(driver, 10).until(\n",
    "            EC.visibility_of_element_located((By.XPATH, '/html/body/main/div/apec-offres/div/apec-detail-emploi/div/div/div[2]/article/div/div/apec-poste-informations/div/div[1]/div[3]/span'))\n",
    "            )\n",
    "            niveau_experience = niveau_experience_element.text\n",
    "\n",
    "            statut_poste_element = WebDriverWait(driver, 10).until(\n",
    "            EC.visibility_of_element_located((By.XPATH, '/html/body/main/div/apec-offres/div/apec-detail-emploi/div/div/div[2]/article/div/div/apec-poste-informations/div/div[1]/div[5]/span'))\n",
    "            )\n",
    "            statut_poste = statut_poste_element.text\n",
    "\n",
    "            secteur_activite_element = WebDriverWait(driver, 10).until(\n",
    "            EC.visibility_of_element_located((By.XPATH, '/html/body/main/div/apec-offres/div/apec-detail-emploi/div/div/div[2]/article/div/div/apec-poste-informations/div/div[1]/div[7]/span'))\n",
    "            )\n",
    "            secteur_activite = secteur_activite_element.text\n",
    "\n",
    "            # Ajouter les informations à leurs listes respectives\n",
    "            titles_list.append(title)\n",
    "            description_list.append(description)\n",
    "            profil_list.append(profil)\n",
    "            info_entreprise_list.append(info_entreprise)\n",
    "            type_contrat_list.append(type_contrat)\n",
    "            lieu_list.append(lieu)\n",
    "            date_publication_list.append(date_publication)\n",
    "            salaire_list.append(salaire)\n",
    "            niveau_experience_list.append(niveau_experience)\n",
    "            statut_poste_list.append(statut_poste)\n",
    "            secteur_activite_list.append(secteur_activite)\n",
    "            entreprise_list.append(entreprise)\n",
    "\n",
    "            # Revenir à la page précédente\n",
    "            driver.back()\n",
    "\n",
    "            # Attendre que la page précédente soit chargée\n",
    "            driver.implicitly_wait(5)\n",
    "\n",
    "        except Exception as e:\n",
    "            print(f\"Erreur lors du traitement de l'offre {i} sur la page {page}: {e}\")\n",
    "\n",
    "# Créer un DataFrame à partir des listes d'informations\n",
    "df = pd.DataFrame({\n",
    "    \"Titres\": titles_list, \n",
    "    \"Descriptions\": description_list, \n",
    "    \"Profils\": profil_list,\n",
    "    \"Info Entreprise\": info_entreprise_list,\n",
    "    \"Type Contrat\": type_contrat_list,\n",
    "    \"Lieu\": lieu_list,\n",
    "    \"Date de publication\": date_publication_list,\n",
    "    \"Salaire\": salaire_list,\n",
    "    \"Niveau d'expérience\": niveau_experience_list,\n",
    "    \"Statut du poste\": statut_poste_list,\n",
    "    \"Secteur d'activité\": secteur_activite_list,\n",
    "    \"Entreprise\": entreprise_list\n",
    "})\n",
    "\n",
    "# Fermer le navigateur\n",
    "driver.quit()"
   ]
  },
  {
   "cell_type": "code",
   "execution_count": null,
   "metadata": {},
   "outputs": [],
   "source": [
    "# Filtrer les lignes contenant les mots clés dans la colonne \"Titres\" (environ 68 lignes)\n",
    "df2= df[df['Titres'].str.contains(r'\\b(data scientist|data science|datascience|datascientist)\\b', case=False, na=False)]\n",
    "df2.shape"
   ]
  },
  {
   "cell_type": "code",
   "execution_count": 35,
   "metadata": {},
   "outputs": [],
   "source": [
    "#On fait une concaténation des data frame 'data_engineer_df' et data frame data scientist 'df2':\n",
    "data_apec = pd.concat([data_engineer_df, df2], ignore_index=True)\n",
    "data_apec.shape"
   ]
  },
  {
   "cell_type": "code",
   "execution_count": 40,
   "metadata": {},
   "outputs": [],
   "source": [
    "#Transfomer variable 'Niveau d'experience' en 'experience Oui/Non' pour être comparable à data frame Pole emploi:\n",
    "#'Minimum 2 ans', 'Minimum 5 ans', 'Minimum 3 ans','Minimum 6 ans','Minimum 1 an', 'Minimum 4 ans','Minimum 8 ans' --> OUI\n",
    "#\"Tous niveaux d'expérience acceptés\",  'Aucune expérience exigée' --> NON\n",
    "data_apec['experienceOuiNon'] = np.where(data_apec['Niveau d\\'expérience'].isin(['Tous niveaux d\\'expérience acceptés', 'Aucune expérience exigée']),'non', np.where(data_apec['Niveau d\\'expérience'].isin(['Minimum 2 ans','Minimum 5 ans','Minimum 3 ans','Minimum 6 ans','Minimum 1 an','Minimum 4 ans','Minimum 8 ans']), 'oui', None))\n",
    "data_apec= data_apec.drop(columns=['Niveau d\\'expérience'])"
   ]
  },
  {
   "cell_type": "code",
   "execution_count": 47,
   "metadata": {},
   "outputs": [],
   "source": [
    "#Transformer variable 'lieu' en 'ville' et 'departement':\n",
    "# Division de la colonne \"Lieu\" en \"Dept\" et \"Ville\"\n",
    "df_Dept_ville = data_apec[\"Lieu\"].str.split(\" - \", expand=True)\n",
    "df_Dept_ville.columns = [\"Ville\", \"Dept\"]\n",
    "\n",
    "# Création des nouvelles colonnes \"Departement\" et \"Ville\" dans le dataframe\n",
    "data_apec[\"departement\"] = df_Dept_ville[\"Dept\"]\n",
    "data_apec[\"ville\"] = df_Dept_ville[\"Ville\"]\n",
    "data_apec = data_apec.drop(columns=['Lieu'])"
   ]
  },
  {
   "cell_type": "code",
   "execution_count": 55,
   "metadata": {},
   "outputs": [],
   "source": [
    "#Changer les noms des variables:\n",
    "data_apec= data_apec.rename(columns= {'Titres' : 'intitule', 'Descriptions':'description_offre', 'Profils': 'profils', 'Info Entreprise':'entreprise_description', 'Type Contrat': 'typeContrat', 'Date de publication':'dateCreation', 'Salaire': 'salaire', 'Statut du poste':'qualificationLibelle', 'Secteur d\\'activité': 'secteurActiviteLibelle', 'Entreprise':'entreprise_nom'})"
   ]
  },
  {
   "cell_type": "markdown",
   "metadata": {},
   "source": [
    "## Étape 2: Scrapping du site de Pôle Emploi"
   ]
  },
  {
   "cell_type": "markdown",
   "metadata": {},
   "source": [
    "Étape A: Demander un 'access token' à Pôle Emploi Access Management en spécifiant les API souhaitées et l'id et secret: Pôle emploi access management génère et transmet un 'access token' valable pendant 24 minutes."
   ]
  },
  {
   "cell_type": "code",
   "execution_count": 96,
   "metadata": {},
   "outputs": [],
   "source": [
    "# URL pour obtenir le jeton d'accès\n",
    "token_url = 'https://entreprise.pole-emploi.fr/connexion/oauth2/access_token?realm=%2Fpartenaire'\n",
    "\n",
    "# Remplacez 'VOTRE_IDENTIFIANT_CLIENT' et 'VOTRE_CLE_SECRETE' par les valeurs réelles fournies par Pôle Emploi\n",
    "client_id = 'PAR_poleemploijobsscrapin_4280e6316989cfda7bc759c90500ef347cc95780c6b1d5b67cca3db6c6d373d1'\n",
    "client_secret = '70d252725959266d147615699b09d63746184cec836d7ff41f1bec6427215373'\n",
    "# Scopes autorisés pour votre application\n",
    "scopes = 'api_offresdemploiv2 o2dsoffre'  # Remplacez par les scopes valides pour votre application\n",
    "\n",
    "# Corps de la requête avec ces paramètres\n",
    "token_params = {\n",
    "    'grant_type': 'client_credentials',\n",
    "    'client_id': client_id,\n",
    "    'client_secret': client_secret,\n",
    "    'scope': scopes\n",
    "}\n",
    "\n",
    "# En-tête de la requête\n",
    "headers = {\n",
    "    'Content-Type': 'application/x-www-form-urlencoded'\n",
    "}\n",
    "\n",
    "# Faire la requête pour obtenir le jeton d'accès\n",
    "# Demander l'access token avec 'post'\n",
    "response = requests.post(token_url, data=token_params, headers=headers)\n",
    "access_token=response.json().get('access_token')"
   ]
  },
  {
   "cell_type": "markdown",
   "metadata": {},
   "source": [
    "Étape B: requêter une API: on fourni l'access token à chaque interrogation d'une API"
   ]
  },
  {
   "cell_type": "code",
   "execution_count": 97,
   "metadata": {},
   "outputs": [],
   "source": [
    "# Requêter l'API avec 'get':\n",
    "# Soit on spécifie les paramètres dans l'url soit on les mets dans une liste 'params'\n",
    "#url = 'https://api.pole-emploi.io/partenaire/offresdemploi/v2/offres/search?range=0-2&sort=1&motsCles=data%20engineer'\n",
    "url = 'https://api.pole-emploi.io/partenaire/offresdemploi/v2/offres/search'\n",
    "\n",
    "headers = {\n",
    "    'Authorization': f'Bearer {access_token}'\n",
    "}\n",
    "\n",
    "#Boucle pour faire une requête pour chaque mot-clé:\n",
    "mots_cles_list = ['data engineer', 'data scientist']\n",
    "responses= []\n",
    "for mots_cles in mots_cles_list:\n",
    "    params = {\n",
    "    'range': '0-149',\n",
    "    'sort': '1',\n",
    "    'motsCles': mots_cles,\n",
    "    }\n",
    "\n",
    "    # Faire la requête avec les en-têtes d'authentification\n",
    "    reponse = requests.get(url, headers=headers, params=params)\n",
    "    responses.append(reponse.json())\n",
    "\n",
    "responses_json = json.dumps(responses)\n",
    "responses_list = json.loads(responses_json)\n",
    "resultats_list = [item['resultats'] for item in responses_list]\n",
    "resultats_concat = [resultat for sublist in resultats_list for resultat in sublist]\n",
    "df = pd.DataFrame(resultats_concat)"
   ]
  },
  {
   "cell_type": "code",
   "execution_count": 98,
   "metadata": {},
   "outputs": [],
   "source": [
    "lieu_travail_df = pd.json_normalize(df['lieuTravail'])\n",
    "df = pd.concat([df, lieu_travail_df], axis=1)\n",
    "df = df.drop(columns=['lieuTravail'])"
   ]
  },
  {
   "cell_type": "code",
   "execution_count": 99,
   "metadata": {},
   "outputs": [],
   "source": [
    "# Division de la colonne \"libelle\" en \"Dept\" et \"Ville\"\n",
    "df_Dept_ville = df[\"libelle\"].str.split(\" - \", expand=True)\n",
    "df_Dept_ville.columns = [\"Dept\", \"Ville\"]\n",
    "\n",
    "# Création des nouvelles colonnes \"Departement\" et \"Ville\" dans le dataframe\n",
    "df[\"departement\"] = df_Dept_ville[\"Dept\"]\n",
    "df[\"ville\"] = df_Dept_ville[\"Ville\"]\n",
    "df = df.drop(columns=['libelle'])"
   ]
  },
  {
   "cell_type": "code",
   "execution_count": 100,
   "metadata": {},
   "outputs": [],
   "source": [
    "df['experienceOuiNon'] = np.where(df['experienceExige'] == 'D', 'non', np.where(df['experienceExige'].isin(['E', 'S']), 'oui', None))"
   ]
  },
  {
   "cell_type": "code",
   "execution_count": 101,
   "metadata": {},
   "outputs": [],
   "source": [
    "df.columns.values[2] = 'description_offre'\n",
    "entreprise_df = pd.json_normalize(df['entreprise'])\n",
    "df = pd.concat([df, entreprise_df], axis=1)\n",
    "df = df.drop(columns=['entreprise'])"
   ]
  },
  {
   "cell_type": "code",
   "execution_count": 102,
   "metadata": {},
   "outputs": [],
   "source": [
    "df= df.rename(columns= {'description' : 'entreprise_description', 'nom':'entreprise_nom'})"
   ]
  },
  {
   "cell_type": "code",
   "execution_count": 103,
   "metadata": {},
   "outputs": [],
   "source": [
    "#convertir le format de la date en 'DD/MM/YYYY':\n",
    "df['dateCreation'] = pd.to_datetime(df['dateCreation'], utc=True)\n",
    "df['formatted_date'] = df['dateCreation'].dt.strftime('%d/%m/%Y')\n",
    "df['dateCreation'] = df['formatted_date']\n",
    "df.drop(columns=['formatted_date'], inplace=True)"
   ]
  },
  {
   "cell_type": "code",
   "execution_count": 104,
   "metadata": {},
   "outputs": [],
   "source": [
    "salaire_df = pd.json_normalize(df['salaire'])\n",
    "df = pd.concat([df, salaire_df], axis=1)\n",
    "df = df.drop(columns=['salaire'])\n",
    "df= df.rename(columns= {'libelle' : 'salaire'})\n",
    "df = df.drop(columns=['commentaire', 'complement1', 'complement2'])"
   ]
  },
  {
   "cell_type": "code",
   "execution_count": 105,
   "metadata": {},
   "outputs": [],
   "source": [
    "#Garder que les colonnes nécessaires\n",
    "colonnes_conserver = ['intitule', 'description_offre', 'dateCreation', 'typeContrat', 'experienceExige','experienceOuiNon','latitude', 'longitude', 'codePostal', 'commune','departement','ville', 'entreprise_description', 'entreprise_nom', 'salaire', 'secteurActiviteLibelle', 'qualificationLibelle']  \n",
    "df = df.drop(columns=df.columns.difference(colonnes_conserver))"
   ]
  },
  {
   "cell_type": "markdown",
   "metadata": {},
   "source": [
    "## Étape 3: merge des data frame \"data_apec\" (Apec) et \"df\" (Pole Emploi)"
   ]
  },
  {
   "cell_type": "code",
   "execution_count": 107,
   "metadata": {},
   "outputs": [],
   "source": [
    "data_final = pd.merge(df, data_apec, left_on=['intitule', 'description_offre', 'dateCreation', 'typeContrat', 'experienceOuiNon', 'salaire', 'secteurActiviteLibelle', 'qualificationLibelle', 'departement', 'ville', 'entreprise_nom', 'entreprise_description'], right_on=['intitule', 'description_offre', 'dateCreation', 'typeContrat', 'experienceOuiNon', 'salaire', 'secteurActiviteLibelle', 'qualificationLibelle', 'departement', 'ville', 'entreprise_nom', 'entreprise_description'], how='outer')"
   ]
  },
  {
   "cell_type": "code",
   "execution_count": 117,
   "metadata": {},
   "outputs": [],
   "source": [
    "data_final.to_csv('Jobs.csv', index=False)"
   ]
  }
 ],
 "metadata": {
  "kernelspec": {
   "display_name": "Python 3",
   "language": "python",
   "name": "python3"
  },
  "language_info": {
   "codemirror_mode": {
    "name": "ipython",
    "version": 3
   },
   "file_extension": ".py",
   "mimetype": "text/x-python",
   "name": "python",
   "nbconvert_exporter": "python",
   "pygments_lexer": "ipython3",
   "version": "3.10.11"
  }
 },
 "nbformat": 4,
 "nbformat_minor": 2
}
