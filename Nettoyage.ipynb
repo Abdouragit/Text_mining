{
 "cells": [
  {
   "cell_type": "code",
   "execution_count": 1,
   "metadata": {},
   "outputs": [],
   "source": [
    "import pandas as pd"
   ]
  },
  {
   "cell_type": "markdown",
   "metadata": {},
   "source": [
    "## On va ajouter de l'Open Data pour avoir les latitudes, longitudes et les régions complètes."
   ]
  },
  {
   "cell_type": "code",
   "execution_count": 2,
   "metadata": {},
   "outputs": [],
   "source": [
    "jobs = pd.read_csv('Jobs.csv')"
   ]
  },
  {
   "cell_type": "code",
   "execution_count": 3,
   "metadata": {},
   "outputs": [],
   "source": [
    "cities = pd.read_csv('cities.csv',sep=';')"
   ]
  },
  {
   "cell_type": "code",
   "execution_count": 4,
   "metadata": {},
   "outputs": [],
   "source": [
    "cities['ville'] = cities['ville'].str.upper()\n",
    "jobs['ville'] = jobs['ville'].str.upper()"
   ]
  },
  {
   "cell_type": "code",
   "execution_count": 5,
   "metadata": {},
   "outputs": [],
   "source": [
    "#on enlève les doublons\n",
    "cities = cities.drop_duplicates(subset='ville')"
   ]
  },
  {
   "cell_type": "code",
   "execution_count": 6,
   "metadata": {},
   "outputs": [
    {
     "name": "stdout",
     "output_type": "stream",
     "text": [
      "0\n"
     ]
    }
   ],
   "source": [
    "nombre_de_doublons = cities.duplicated().sum()\n",
    "print(nombre_de_doublons)"
   ]
  },
  {
   "cell_type": "code",
   "execution_count": 7,
   "metadata": {},
   "outputs": [
    {
     "data": {
      "text/html": [
       "<div>\n",
       "<style scoped>\n",
       "    .dataframe tbody tr th:only-of-type {\n",
       "        vertical-align: middle;\n",
       "    }\n",
       "\n",
       "    .dataframe tbody tr th {\n",
       "        vertical-align: top;\n",
       "    }\n",
       "\n",
       "    .dataframe thead th {\n",
       "        text-align: right;\n",
       "    }\n",
       "</style>\n",
       "<table border=\"1\" class=\"dataframe\">\n",
       "  <thead>\n",
       "    <tr style=\"text-align: right;\">\n",
       "      <th></th>\n",
       "      <th>ville</th>\n",
       "      <th>code_postal</th>\n",
       "      <th>latitude</th>\n",
       "      <th>longitude</th>\n",
       "      <th>department_name</th>\n",
       "      <th>region</th>\n",
       "    </tr>\n",
       "  </thead>\n",
       "  <tbody>\n",
       "    <tr>\n",
       "      <th>0</th>\n",
       "      <td>VILLE DU PONT</td>\n",
       "      <td>25650</td>\n",
       "      <td>46.999873</td>\n",
       "      <td>6.498147</td>\n",
       "      <td>doubs</td>\n",
       "      <td>bourgogne-franche-comté</td>\n",
       "    </tr>\n",
       "    <tr>\n",
       "      <th>1</th>\n",
       "      <td>VILLERS GRELOT</td>\n",
       "      <td>25640</td>\n",
       "      <td>47.361512</td>\n",
       "      <td>6.235167</td>\n",
       "      <td>doubs</td>\n",
       "      <td>bourgogne-franche-comté</td>\n",
       "    </tr>\n",
       "    <tr>\n",
       "      <th>2</th>\n",
       "      <td>VILLARS LES BLAMONT</td>\n",
       "      <td>25310</td>\n",
       "      <td>47.368384</td>\n",
       "      <td>6.871415</td>\n",
       "      <td>doubs</td>\n",
       "      <td>bourgogne-franche-comté</td>\n",
       "    </tr>\n",
       "    <tr>\n",
       "      <th>3</th>\n",
       "      <td>LES VILLEDIEU</td>\n",
       "      <td>25240</td>\n",
       "      <td>46.713906</td>\n",
       "      <td>6.265831</td>\n",
       "      <td>doubs</td>\n",
       "      <td>bourgogne-franche-comté</td>\n",
       "    </tr>\n",
       "    <tr>\n",
       "      <th>4</th>\n",
       "      <td>VILLERS BUZON</td>\n",
       "      <td>25170</td>\n",
       "      <td>47.228558</td>\n",
       "      <td>5.852187</td>\n",
       "      <td>doubs</td>\n",
       "      <td>bourgogne-franche-comté</td>\n",
       "    </tr>\n",
       "    <tr>\n",
       "      <th>...</th>\n",
       "      <td>...</td>\n",
       "      <td>...</td>\n",
       "      <td>...</td>\n",
       "      <td>...</td>\n",
       "      <td>...</td>\n",
       "      <td>...</td>\n",
       "    </tr>\n",
       "    <tr>\n",
       "      <th>39140</th>\n",
       "      <td>THIO</td>\n",
       "      <td>98829</td>\n",
       "      <td>NaN</td>\n",
       "      <td>NaN</td>\n",
       "      <td>nouvelle-calédonie</td>\n",
       "      <td>nouvelle-calédonie</td>\n",
       "    </tr>\n",
       "    <tr>\n",
       "      <th>39141</th>\n",
       "      <td>VOH</td>\n",
       "      <td>98833</td>\n",
       "      <td>NaN</td>\n",
       "      <td>NaN</td>\n",
       "      <td>nouvelle-calédonie</td>\n",
       "      <td>nouvelle-calédonie</td>\n",
       "    </tr>\n",
       "    <tr>\n",
       "      <th>39142</th>\n",
       "      <td>YATE</td>\n",
       "      <td>98834</td>\n",
       "      <td>NaN</td>\n",
       "      <td>NaN</td>\n",
       "      <td>nouvelle-calédonie</td>\n",
       "      <td>nouvelle-calédonie</td>\n",
       "    </tr>\n",
       "    <tr>\n",
       "      <th>39143</th>\n",
       "      <td>SIGAVE</td>\n",
       "      <td>98620</td>\n",
       "      <td>-14.270411</td>\n",
       "      <td>-178.155263</td>\n",
       "      <td>wallis-et-futuna</td>\n",
       "      <td>wallis-et-futuna</td>\n",
       "    </tr>\n",
       "    <tr>\n",
       "      <th>39144</th>\n",
       "      <td>UVEA</td>\n",
       "      <td>98600</td>\n",
       "      <td>-13.281863</td>\n",
       "      <td>-176.161928</td>\n",
       "      <td>wallis-et-futuna</td>\n",
       "      <td>wallis-et-futuna</td>\n",
       "    </tr>\n",
       "  </tbody>\n",
       "</table>\n",
       "<p>32759 rows × 6 columns</p>\n",
       "</div>"
      ],
      "text/plain": [
       "                     ville  code_postal   latitude   longitude  \\\n",
       "0            VILLE DU PONT        25650  46.999873    6.498147   \n",
       "1           VILLERS GRELOT        25640  47.361512    6.235167   \n",
       "2      VILLARS LES BLAMONT        25310  47.368384    6.871415   \n",
       "3            LES VILLEDIEU        25240  46.713906    6.265831   \n",
       "4            VILLERS BUZON        25170  47.228558    5.852187   \n",
       "...                    ...          ...        ...         ...   \n",
       "39140                 THIO        98829        NaN         NaN   \n",
       "39141                  VOH        98833        NaN         NaN   \n",
       "39142                 YATE        98834        NaN         NaN   \n",
       "39143               SIGAVE        98620 -14.270411 -178.155263   \n",
       "39144                 UVEA        98600 -13.281863 -176.161928   \n",
       "\n",
       "          department_name                   region  \n",
       "0                   doubs  bourgogne-franche-comté  \n",
       "1                   doubs  bourgogne-franche-comté  \n",
       "2                   doubs  bourgogne-franche-comté  \n",
       "3                   doubs  bourgogne-franche-comté  \n",
       "4                   doubs  bourgogne-franche-comté  \n",
       "...                   ...                      ...  \n",
       "39140  nouvelle-calédonie       nouvelle-calédonie  \n",
       "39141  nouvelle-calédonie       nouvelle-calédonie  \n",
       "39142  nouvelle-calédonie       nouvelle-calédonie  \n",
       "39143    wallis-et-futuna         wallis-et-futuna  \n",
       "39144    wallis-et-futuna         wallis-et-futuna  \n",
       "\n",
       "[32759 rows x 6 columns]"
      ]
     },
     "execution_count": 7,
     "metadata": {},
     "output_type": "execute_result"
    }
   ],
   "source": [
    "cities"
   ]
  },
  {
   "cell_type": "code",
   "execution_count": 8,
   "metadata": {},
   "outputs": [],
   "source": [
    "#on enlève les doublons\n",
    "jobs = jobs.drop_duplicates()"
   ]
  },
  {
   "cell_type": "code",
   "execution_count": 9,
   "metadata": {},
   "outputs": [
    {
     "name": "stdout",
     "output_type": "stream",
     "text": [
      "0\n"
     ]
    }
   ],
   "source": [
    "nombre_de_doublons = jobs.duplicated().sum()\n",
    "print(nombre_de_doublons)"
   ]
  },
  {
   "cell_type": "code",
   "execution_count": 10,
   "metadata": {},
   "outputs": [],
   "source": [
    "columns_to_drop = ['commune', 'latitude', 'longitude', 'codePostal']\n",
    "jobs = jobs.drop(columns=columns_to_drop)"
   ]
  },
  {
   "cell_type": "code",
   "execution_count": 11,
   "metadata": {},
   "outputs": [
    {
     "name": "stdout",
     "output_type": "stream",
     "text": [
      "<class 'pandas.core.frame.DataFrame'>\n",
      "Int64Index: 411 entries, 0 to 427\n",
      "Data columns (total 14 columns):\n",
      " #   Column                  Non-Null Count  Dtype \n",
      "---  ------                  --------------  ----- \n",
      " 0   intitule                411 non-null    object\n",
      " 1   description_offre       411 non-null    object\n",
      " 2   dateCreation            411 non-null    object\n",
      " 3   typeContrat             411 non-null    object\n",
      " 4   experienceExige         267 non-null    object\n",
      " 5   secteurActiviteLibelle  267 non-null    object\n",
      " 6   qualificationLibelle    237 non-null    object\n",
      " 7   departement             411 non-null    object\n",
      " 8   ville                   350 non-null    object\n",
      " 9   experienceOuiNon        411 non-null    object\n",
      " 10  entreprise_nom          275 non-null    object\n",
      " 11  entreprise_description  261 non-null    object\n",
      " 12  salaire                 212 non-null    object\n",
      " 13  profils                 144 non-null    object\n",
      "dtypes: object(14)\n",
      "memory usage: 48.2+ KB\n"
     ]
    }
   ],
   "source": [
    "jobs.info()"
   ]
  },
  {
   "cell_type": "code",
   "execution_count": 12,
   "metadata": {},
   "outputs": [],
   "source": [
    "df = pd.merge(jobs, cities, how='left', on='ville')"
   ]
  },
  {
   "cell_type": "code",
   "execution_count": 13,
   "metadata": {},
   "outputs": [
    {
     "name": "stdout",
     "output_type": "stream",
     "text": [
      "<class 'pandas.core.frame.DataFrame'>\n",
      "Int64Index: 411 entries, 0 to 410\n",
      "Data columns (total 19 columns):\n",
      " #   Column                  Non-Null Count  Dtype  \n",
      "---  ------                  --------------  -----  \n",
      " 0   intitule                411 non-null    object \n",
      " 1   description_offre       411 non-null    object \n",
      " 2   dateCreation            411 non-null    object \n",
      " 3   typeContrat             411 non-null    object \n",
      " 4   experienceExige         267 non-null    object \n",
      " 5   secteurActiviteLibelle  267 non-null    object \n",
      " 6   qualificationLibelle    237 non-null    object \n",
      " 7   departement             411 non-null    object \n",
      " 8   ville                   350 non-null    object \n",
      " 9   experienceOuiNon        411 non-null    object \n",
      " 10  entreprise_nom          275 non-null    object \n",
      " 11  entreprise_description  261 non-null    object \n",
      " 12  salaire                 212 non-null    object \n",
      " 13  profils                 144 non-null    object \n",
      " 14  code_postal             294 non-null    float64\n",
      " 15  latitude                294 non-null    float64\n",
      " 16  longitude               294 non-null    float64\n",
      " 17  department_name         294 non-null    object \n",
      " 18  region                  294 non-null    object \n",
      "dtypes: float64(3), object(16)\n",
      "memory usage: 64.2+ KB\n"
     ]
    }
   ],
   "source": [
    "df.info()"
   ]
  },
  {
   "cell_type": "code",
   "execution_count": 14,
   "metadata": {},
   "outputs": [],
   "source": [
    "df['nouvelle_colonne'] = df['profils'] + ' ' + df['description_offre']\n",
    "df = df.drop(columns=['profils'])"
   ]
  },
  {
   "cell_type": "code",
   "execution_count": 15,
   "metadata": {},
   "outputs": [
    {
     "name": "stdout",
     "output_type": "stream",
     "text": [
      "<class 'pandas.core.frame.DataFrame'>\n",
      "Int64Index: 411 entries, 0 to 410\n",
      "Data columns (total 19 columns):\n",
      " #   Column                  Non-Null Count  Dtype  \n",
      "---  ------                  --------------  -----  \n",
      " 0   intitule                411 non-null    object \n",
      " 1   description_offre       411 non-null    object \n",
      " 2   dateCreation            411 non-null    object \n",
      " 3   typeContrat             411 non-null    object \n",
      " 4   experienceExige         267 non-null    object \n",
      " 5   secteurActiviteLibelle  267 non-null    object \n",
      " 6   qualificationLibelle    237 non-null    object \n",
      " 7   departement             411 non-null    object \n",
      " 8   ville                   350 non-null    object \n",
      " 9   experienceOuiNon        411 non-null    object \n",
      " 10  entreprise_nom          275 non-null    object \n",
      " 11  entreprise_description  261 non-null    object \n",
      " 12  salaire                 212 non-null    object \n",
      " 13  code_postal             294 non-null    float64\n",
      " 14  latitude                294 non-null    float64\n",
      " 15  longitude               294 non-null    float64\n",
      " 16  department_name         294 non-null    object \n",
      " 17  region                  294 non-null    object \n",
      " 18  nouvelle_colonne        144 non-null    object \n",
      "dtypes: float64(3), object(16)\n",
      "memory usage: 64.2+ KB\n"
     ]
    }
   ],
   "source": [
    "df.info()"
   ]
  },
  {
   "cell_type": "markdown",
   "metadata": {},
   "source": [
    "## Transformation variable \"Salaire\""
   ]
  },
  {
   "cell_type": "code",
   "execution_count": 16,
   "metadata": {},
   "outputs": [],
   "source": [
    "import pandas as pd\n",
    "import re\n",
    "import numpy as np"
   ]
  },
  {
   "cell_type": "code",
   "execution_count": 17,
   "metadata": {},
   "outputs": [],
   "source": [
    "#transformation des donnes type \"Annuel de 40,00 Euros à 60,00 Euros\" en \"Annuel de 40000 Euros à 60000 Euros\":\n",
    "#transformation des données de type 'Mensuel de 1136,00 Euros sur 12 mois':\n",
    "df['salaire'] = df['salaire'].replace('Mensuel de 1136,00 Euros sur 12 mois', 'Annuel de 13632,00')\n",
    "df['salaire'] = df['salaire'].replace('Mensuel de 4000,00 Euros à 5000,00 Euros sur 12 mois', 'Annuel de 48000,00 Euros à 60000,00 Euros sur 12 mois')\n",
    "df['salaire'] = df['salaire'].replace('Annuel de 40,00 Euros à 60,00 Euros', 'Annuel de 40000,00 Euros à 60000,00 Euros')\n",
    "df['salaire'] = df['salaire'].replace('Annuel de 50,00 Euros à 70,00 Euros', 'Annuel de 50000,00 Euros à 70000,00 Euros')\n",
    "df['salaire'] = df['salaire'].replace('Annuel de 26000 Euros à 36000 Euros sur 12 mois', 'Annuel de 26000,00 Euros à 36000,00 Euros sur 12 mois')"
   ]
  },
  {
   "cell_type": "code",
   "execution_count": 18,
   "metadata": {},
   "outputs": [],
   "source": [
    "df['salaire'] = df['salaire'].astype(str)"
   ]
  },
  {
   "cell_type": "code",
   "execution_count": 19,
   "metadata": {},
   "outputs": [],
   "source": [
    "def extract_salaire_min(salaire):\n",
    "    match = re.search(r'(\\d+,\\d+)', salaire)\n",
    "    return float(match.group(1).replace(',', '.')) if match else None\n",
    "\n",
    "def extract_salaire_max(salaire):\n",
    "    match = re.search(r'(\\d+,\\d+)(?: Euros à (\\d+,\\d+))?', salaire)\n",
    "    return float(match.group(2).replace(',', '.')) if match and match.group(2) else None\n",
    "\n",
    "df['salaire_min_annuel'] = df['salaire'].apply(extract_salaire_min)\n",
    "df['salaire_max_annuel'] = df['salaire'].apply(extract_salaire_max)\n"
   ]
  },
  {
   "cell_type": "code",
   "execution_count": 20,
   "metadata": {},
   "outputs": [],
   "source": [
    "df['salaire_min_annuel'] = pd.to_numeric(df['salaire_min_annuel'].replace('nan', np.nan), errors='coerce')\n",
    "df['salaire_max_annuel'] = pd.to_numeric(df['salaire_max_annuel'].replace('nan', np.nan), errors='coerce')\n",
    "df['salaire'] = df['salaire'].replace('nan', np.nan)"
   ]
  },
  {
   "cell_type": "code",
   "execution_count": 21,
   "metadata": {},
   "outputs": [],
   "source": [
    "#Création de la variable 'salaire_annuel_mean':\n",
    "df['salaire_annuel_mean'] = np.where(df['salaire_max_annuel'].notnull(),\n",
    "                                     (df['salaire_min_annuel'] + df['salaire_max_annuel']) / 2,\n",
    "                                     df['salaire_min_annuel'])"
   ]
  },
  {
   "cell_type": "code",
   "execution_count": 22,
   "metadata": {},
   "outputs": [],
   "source": [
    "df.to_csv('Jobs_V3.csv', index=False)"
   ]
  }
 ],
 "metadata": {
  "kernelspec": {
   "display_name": "base",
   "language": "python",
   "name": "python3"
  },
  "language_info": {
   "codemirror_mode": {
    "name": "ipython",
    "version": 3
   },
   "file_extension": ".py",
   "mimetype": "text/x-python",
   "name": "python",
   "nbconvert_exporter": "python",
   "pygments_lexer": "ipython3",
   "version": "3.11.2"
  }
 },
 "nbformat": 4,
 "nbformat_minor": 2
}
