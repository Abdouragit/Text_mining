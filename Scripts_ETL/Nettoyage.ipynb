{
 "cells": [
  {
   "cell_type": "code",
   "execution_count": 176,
   "metadata": {},
   "outputs": [],
   "source": [
    "import pandas as pd\n",
    "import re\n",
    "import numpy as np"
   ]
  },
  {
   "cell_type": "markdown",
   "metadata": {},
   "source": [
    "## On va ajouter de l'Open Data pour avoir les latitudes, longitudes et les régions complètes."
   ]
  },
  {
   "cell_type": "code",
   "execution_count": 177,
   "metadata": {},
   "outputs": [],
   "source": [
    "jobs = pd.read_csv('Jobs.csv')\n",
    "cities = pd.read_csv('cities.csv',sep=';')"
   ]
  },
  {
   "cell_type": "code",
   "execution_count": 178,
   "metadata": {},
   "outputs": [],
   "source": [
    "cities['ville'] = cities['ville'].str.upper()\n",
    "jobs['ville'] = jobs['ville'].str.upper()"
   ]
  },
  {
   "cell_type": "code",
   "execution_count": 179,
   "metadata": {},
   "outputs": [],
   "source": [
    "#on enlève les doublons\n",
    "cities = cities.drop_duplicates(subset='ville')\n",
    "jobs = jobs.drop_duplicates()"
   ]
  },
  {
   "cell_type": "code",
   "execution_count": 180,
   "metadata": {},
   "outputs": [],
   "source": [
    "columns_to_drop = ['commune', 'latitude', 'longitude', 'codePostal']\n",
    "jobs = jobs.drop(columns=columns_to_drop)\n",
    "df = pd.merge(jobs, cities, how='left', on='ville')"
   ]
  },
  {
   "cell_type": "markdown",
   "metadata": {},
   "source": [
    "## Transformation variable \"Salaire\""
   ]
  },
  {
   "cell_type": "code",
   "execution_count": 181,
   "metadata": {},
   "outputs": [],
   "source": [
    "#transformation des donnes type \"Annuel de 40,00 Euros à 60,00 Euros\" en \"Annuel de 40000 Euros à 60000 Euros\":\n",
    "#transformation des données de type 'Mensuel de 1136,00 Euros sur 12 mois':\n",
    "df['salaire'] = df['salaire'].replace('Mensuel de 1136,00 Euros sur 12 mois', 'Annuel de 13632,00')\n",
    "df['salaire'] = df['salaire'].replace('Mensuel de 4000,00 Euros à 5000,00 Euros sur 12 mois', 'Annuel de 48000,00 Euros à 60000,00 Euros sur 12 mois')\n",
    "df['salaire'] = df['salaire'].replace('Annuel de 40,00 Euros à 60,00 Euros', 'Annuel de 40000,00 Euros à 60000,00 Euros')\n",
    "df['salaire'] = df['salaire'].replace('Annuel de 50,00 Euros à 70,00 Euros', 'Annuel de 50000,00 Euros à 70000,00 Euros')\n",
    "df['salaire'] = df['salaire'].replace('Annuel de 26000 Euros à 36000 Euros sur 12 mois', 'Annuel de 26000,00 Euros à 36000,00 Euros sur 12 mois')\n",
    "df['salaire'] = df['salaire'].astype(str)"
   ]
  },
  {
   "cell_type": "code",
   "execution_count": 182,
   "metadata": {},
   "outputs": [],
   "source": [
    "def extract_salaire_min(salaire):\n",
    "    match = re.search(r'(\\d+,\\d+)', salaire)\n",
    "    return float(match.group(1).replace(',', '.')) if match else None\n",
    "\n",
    "def extract_salaire_max(salaire):\n",
    "    match = re.search(r'(\\d+,\\d+)(?: Euros à (\\d+,\\d+))?', salaire)\n",
    "    return float(match.group(2).replace(',', '.')) if match and match.group(2) else None\n",
    "\n",
    "df['salaire_min_annuel'] = df['salaire'].apply(extract_salaire_min)\n",
    "df['salaire_max_annuel'] = df['salaire'].apply(extract_salaire_max)"
   ]
  },
  {
   "cell_type": "code",
   "execution_count": 183,
   "metadata": {},
   "outputs": [],
   "source": [
    "df['salaire_min_annuel'] = pd.to_numeric(df['salaire_min_annuel'].replace('nan', np.nan), errors='coerce')\n",
    "df['salaire_max_annuel'] = pd.to_numeric(df['salaire_max_annuel'].replace('nan', np.nan), errors='coerce')\n",
    "df['salaire'] = df['salaire'].replace('nan', np.nan)"
   ]
  },
  {
   "cell_type": "code",
   "execution_count": 184,
   "metadata": {},
   "outputs": [],
   "source": [
    "#Création de la variable 'salaire_annuel_mean':\n",
    "df['salaire_annuel_mean'] = np.where(df['salaire_max_annuel'].notnull(),\n",
    "                                     (df['salaire_min_annuel'] + df['salaire_max_annuel']) / 2,\n",
    "                                     df['salaire_min_annuel'])"
   ]
  },
  {
   "cell_type": "markdown",
   "metadata": {},
   "source": [
    "## Renommage des colonnes"
   ]
  },
  {
   "cell_type": "code",
   "execution_count": 185,
   "metadata": {},
   "outputs": [],
   "source": [
    "# renommer les colonnes (pour la base de donnée)\n",
    "df = df.rename(columns={'dateCreation':'date_creation', 'qualificationLibelle':'qualification_libelle', 'experienceOuiNon':\"experience\", 'typeContrat':'type_contrat', 'secteurActiviteLibelle':'secteur_activite', 'codePostal':'code_postal', 'department_name':'departement_nom', 'profils':'profil' })"
   ]
  },
  {
   "cell_type": "markdown",
   "metadata": {},
   "source": [
    "## Creation de la colonne 'poste'"
   ]
  },
  {
   "cell_type": "code",
   "execution_count": 186,
   "metadata": {},
   "outputs": [],
   "source": [
    "def categorize_poste(row):\n",
    "    intitule_lower = row['intitule'].lower()\n",
    "    if 'data scientist' in intitule_lower or 'ingénieur data scientist' in intitule_lower:\n",
    "        return 'data scientist'\n",
    "    elif 'data engineer' in intitule_lower or 'engineer' in intitule_lower or 'ingénieur' in intitule_lower or 'engineering' in intitule_lower :\n",
    "        return 'data engineer'\n",
    "\n",
    "\n",
    "df['poste'] = df.apply(categorize_poste, axis=1)"
   ]
  },
  {
   "cell_type": "code",
   "execution_count": 187,
   "metadata": {},
   "outputs": [],
   "source": [
    "# suppression des postes qui ne sont ni data scientist ni data ingénieur\n",
    "df.dropna(subset=['poste'], inplace=True)"
   ]
  },
  {
   "cell_type": "markdown",
   "metadata": {},
   "source": [
    "## Enrichissement de la variable 'profil'"
   ]
  },
  {
   "cell_type": "code",
   "execution_count": 188,
   "metadata": {},
   "outputs": [],
   "source": [
    "# Fonction pour extraire le contenu après 'profil recherché'\n",
    "def extraire_profil_recherche(description):\n",
    "    # Utilisation d'une expression régulière pour trouver le texte après 'profil recherché'\n",
    "    match = re.search(r'(?i)profil recherché', description)\n",
    "    \n",
    "    # Si la correspondance est trouvée, retourner le contenu après la correspondance\n",
    "    if match:\n",
    "        return description[match.end():].strip()\n",
    " \n",
    "\n",
    "# Appliquer la fonction à la colonne 'description_offre', dont les lignes ne contiennent pas de données dans la colonne 'profil'\n",
    "# Créer la nouvelle colonne 'profil_recherche'\n",
    "mask = df['profil'].isnull() | (df['profil'] == '')\n",
    "df.loc[mask, 'profil_recherche'] = df.loc[mask, 'description_offre'].apply(extraire_profil_recherche)\n"
   ]
  },
  {
   "cell_type": "code",
   "execution_count": 189,
   "metadata": {},
   "outputs": [],
   "source": [
    "# Fusionner le contenu de 'profil' et 'profil_recherche' dans une nouvelle variable 'profil2'\n",
    "df['profil2'] = df.apply(lambda row: row['profil'] + ' ' + row['profil_recherche'] if pd.notnull(row['profil']) and pd.notnull(row['profil_recherche']) else row['profil'] if pd.notnull(row['profil']) else row['profil_recherche'], axis=1)"
   ]
  },
  {
   "cell_type": "code",
   "execution_count": 190,
   "metadata": {},
   "outputs": [],
   "source": [
    "# Supprimer les colonnes 'profil_recherche' et 'profil' et renommer 'profil2' en 'profil':\n",
    "df = df.drop(columns=['profil_recherche', 'profil'])\n",
    "df.rename(columns={'profil2': 'profil'}, inplace=True)"
   ]
  },
  {
   "cell_type": "code",
   "execution_count": 191,
   "metadata": {},
   "outputs": [],
   "source": [
    "df.to_csv('Jobs_V4.csv', index=False)"
   ]
  }
 ],
 "metadata": {
  "kernelspec": {
   "display_name": "base",
   "language": "python",
   "name": "python3"
  },
  "language_info": {
   "codemirror_mode": {
    "name": "ipython",
    "version": 3
   },
   "file_extension": ".py",
   "mimetype": "text/x-python",
   "name": "python",
   "nbconvert_exporter": "python",
   "pygments_lexer": "ipython3",
   "version": "3.8.16"
  }
 },
 "nbformat": 4,
 "nbformat_minor": 2
}
