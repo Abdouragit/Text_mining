{
 "cells": [
  {
   "cell_type": "code",
   "execution_count": 95,
   "metadata": {},
   "outputs": [],
   "source": [
    "import pandas as pd"
   ]
  },
  {
   "cell_type": "markdown",
   "metadata": {},
   "source": [
    "## On va ajouter de l'Open Data pour avoir les latitudes, longitudes et les régions complètes."
   ]
  },
  {
   "cell_type": "code",
   "execution_count": 96,
   "metadata": {},
   "outputs": [],
   "source": [
    "jobs = pd.read_csv('Jobs.csv')"
   ]
  },
  {
   "cell_type": "code",
   "execution_count": 97,
   "metadata": {},
   "outputs": [],
   "source": [
    "cities = pd.read_csv('cities.csv',sep=';')"
   ]
  },
  {
   "cell_type": "code",
   "execution_count": 98,
   "metadata": {},
   "outputs": [],
   "source": [
    "cities['ville'] = cities['ville'].str.upper()\n",
    "jobs['ville'] = jobs['ville'].str.upper()"
   ]
  },
  {
   "cell_type": "code",
   "execution_count": 99,
   "metadata": {},
   "outputs": [],
   "source": [
    "#on enlève les doublons\n",
    "cities = cities.drop_duplicates(subset='ville')"
   ]
  },
  {
   "cell_type": "code",
   "execution_count": 100,
   "metadata": {},
   "outputs": [
    {
     "name": "stdout",
     "output_type": "stream",
     "text": [
      "0\n"
     ]
    }
   ],
   "source": [
    "nombre_de_doublons = cities.duplicated().sum()\n",
    "print(nombre_de_doublons)"
   ]
  },
  {
   "cell_type": "code",
   "execution_count": 101,
   "metadata": {},
   "outputs": [
    {
     "data": {
      "text/html": [
       "<div>\n",
       "<style scoped>\n",
       "    .dataframe tbody tr th:only-of-type {\n",
       "        vertical-align: middle;\n",
       "    }\n",
       "\n",
       "    .dataframe tbody tr th {\n",
       "        vertical-align: top;\n",
       "    }\n",
       "\n",
       "    .dataframe thead th {\n",
       "        text-align: right;\n",
       "    }\n",
       "</style>\n",
       "<table border=\"1\" class=\"dataframe\">\n",
       "  <thead>\n",
       "    <tr style=\"text-align: right;\">\n",
       "      <th></th>\n",
       "      <th>ville</th>\n",
       "      <th>code_postal</th>\n",
       "      <th>latitude</th>\n",
       "      <th>longitude</th>\n",
       "      <th>department_name</th>\n",
       "      <th>region</th>\n",
       "    </tr>\n",
       "  </thead>\n",
       "  <tbody>\n",
       "    <tr>\n",
       "      <th>0</th>\n",
       "      <td>VILLE DU PONT</td>\n",
       "      <td>25650</td>\n",
       "      <td>46.999873</td>\n",
       "      <td>6.498147</td>\n",
       "      <td>doubs</td>\n",
       "      <td>bourgogne-franche-comté</td>\n",
       "    </tr>\n",
       "    <tr>\n",
       "      <th>1</th>\n",
       "      <td>VILLERS GRELOT</td>\n",
       "      <td>25640</td>\n",
       "      <td>47.361512</td>\n",
       "      <td>6.235167</td>\n",
       "      <td>doubs</td>\n",
       "      <td>bourgogne-franche-comté</td>\n",
       "    </tr>\n",
       "    <tr>\n",
       "      <th>2</th>\n",
       "      <td>VILLARS LES BLAMONT</td>\n",
       "      <td>25310</td>\n",
       "      <td>47.368384</td>\n",
       "      <td>6.871415</td>\n",
       "      <td>doubs</td>\n",
       "      <td>bourgogne-franche-comté</td>\n",
       "    </tr>\n",
       "    <tr>\n",
       "      <th>3</th>\n",
       "      <td>LES VILLEDIEU</td>\n",
       "      <td>25240</td>\n",
       "      <td>46.713906</td>\n",
       "      <td>6.265831</td>\n",
       "      <td>doubs</td>\n",
       "      <td>bourgogne-franche-comté</td>\n",
       "    </tr>\n",
       "    <tr>\n",
       "      <th>4</th>\n",
       "      <td>VILLERS BUZON</td>\n",
       "      <td>25170</td>\n",
       "      <td>47.228558</td>\n",
       "      <td>5.852187</td>\n",
       "      <td>doubs</td>\n",
       "      <td>bourgogne-franche-comté</td>\n",
       "    </tr>\n",
       "    <tr>\n",
       "      <th>...</th>\n",
       "      <td>...</td>\n",
       "      <td>...</td>\n",
       "      <td>...</td>\n",
       "      <td>...</td>\n",
       "      <td>...</td>\n",
       "      <td>...</td>\n",
       "    </tr>\n",
       "    <tr>\n",
       "      <th>39140</th>\n",
       "      <td>THIO</td>\n",
       "      <td>98829</td>\n",
       "      <td>NaN</td>\n",
       "      <td>NaN</td>\n",
       "      <td>nouvelle-calédonie</td>\n",
       "      <td>nouvelle-calédonie</td>\n",
       "    </tr>\n",
       "    <tr>\n",
       "      <th>39141</th>\n",
       "      <td>VOH</td>\n",
       "      <td>98833</td>\n",
       "      <td>NaN</td>\n",
       "      <td>NaN</td>\n",
       "      <td>nouvelle-calédonie</td>\n",
       "      <td>nouvelle-calédonie</td>\n",
       "    </tr>\n",
       "    <tr>\n",
       "      <th>39142</th>\n",
       "      <td>YATE</td>\n",
       "      <td>98834</td>\n",
       "      <td>NaN</td>\n",
       "      <td>NaN</td>\n",
       "      <td>nouvelle-calédonie</td>\n",
       "      <td>nouvelle-calédonie</td>\n",
       "    </tr>\n",
       "    <tr>\n",
       "      <th>39143</th>\n",
       "      <td>SIGAVE</td>\n",
       "      <td>98620</td>\n",
       "      <td>-14.270411</td>\n",
       "      <td>-178.155263</td>\n",
       "      <td>wallis-et-futuna</td>\n",
       "      <td>wallis-et-futuna</td>\n",
       "    </tr>\n",
       "    <tr>\n",
       "      <th>39144</th>\n",
       "      <td>UVEA</td>\n",
       "      <td>98600</td>\n",
       "      <td>-13.281863</td>\n",
       "      <td>-176.161928</td>\n",
       "      <td>wallis-et-futuna</td>\n",
       "      <td>wallis-et-futuna</td>\n",
       "    </tr>\n",
       "  </tbody>\n",
       "</table>\n",
       "<p>32759 rows × 6 columns</p>\n",
       "</div>"
      ],
      "text/plain": [
       "                     ville  code_postal   latitude   longitude  \\\n",
       "0            VILLE DU PONT        25650  46.999873    6.498147   \n",
       "1           VILLERS GRELOT        25640  47.361512    6.235167   \n",
       "2      VILLARS LES BLAMONT        25310  47.368384    6.871415   \n",
       "3            LES VILLEDIEU        25240  46.713906    6.265831   \n",
       "4            VILLERS BUZON        25170  47.228558    5.852187   \n",
       "...                    ...          ...        ...         ...   \n",
       "39140                 THIO        98829        NaN         NaN   \n",
       "39141                  VOH        98833        NaN         NaN   \n",
       "39142                 YATE        98834        NaN         NaN   \n",
       "39143               SIGAVE        98620 -14.270411 -178.155263   \n",
       "39144                 UVEA        98600 -13.281863 -176.161928   \n",
       "\n",
       "          department_name                   region  \n",
       "0                   doubs  bourgogne-franche-comté  \n",
       "1                   doubs  bourgogne-franche-comté  \n",
       "2                   doubs  bourgogne-franche-comté  \n",
       "3                   doubs  bourgogne-franche-comté  \n",
       "4                   doubs  bourgogne-franche-comté  \n",
       "...                   ...                      ...  \n",
       "39140  nouvelle-calédonie       nouvelle-calédonie  \n",
       "39141  nouvelle-calédonie       nouvelle-calédonie  \n",
       "39142  nouvelle-calédonie       nouvelle-calédonie  \n",
       "39143    wallis-et-futuna         wallis-et-futuna  \n",
       "39144    wallis-et-futuna         wallis-et-futuna  \n",
       "\n",
       "[32759 rows x 6 columns]"
      ]
     },
     "execution_count": 101,
     "metadata": {},
     "output_type": "execute_result"
    }
   ],
   "source": [
    "cities"
   ]
  },
  {
   "cell_type": "code",
   "execution_count": 102,
   "metadata": {},
   "outputs": [],
   "source": [
    "#on enlève les doublons\n",
    "jobs = jobs.drop_duplicates()"
   ]
  },
  {
   "cell_type": "code",
   "execution_count": 103,
   "metadata": {},
   "outputs": [
    {
     "name": "stdout",
     "output_type": "stream",
     "text": [
      "0\n"
     ]
    }
   ],
   "source": [
    "nombre_de_doublons = jobs.duplicated().sum()\n",
    "print(nombre_de_doublons)"
   ]
  },
  {
   "cell_type": "code",
   "execution_count": 104,
   "metadata": {},
   "outputs": [],
   "source": [
    "columns_to_drop = ['commune', 'latitude', 'longitude', 'codePostal']\n",
    "jobs = jobs.drop(columns=columns_to_drop)"
   ]
  },
  {
   "cell_type": "code",
   "execution_count": 105,
   "metadata": {},
   "outputs": [
    {
     "name": "stdout",
     "output_type": "stream",
     "text": [
      "<class 'pandas.core.frame.DataFrame'>\n",
      "Int64Index: 411 entries, 0 to 427\n",
      "Data columns (total 14 columns):\n",
      " #   Column                  Non-Null Count  Dtype \n",
      "---  ------                  --------------  ----- \n",
      " 0   intitule                411 non-null    object\n",
      " 1   description_offre       411 non-null    object\n",
      " 2   dateCreation            411 non-null    object\n",
      " 3   typeContrat             411 non-null    object\n",
      " 4   experienceExige         267 non-null    object\n",
      " 5   secteurActiviteLibelle  267 non-null    object\n",
      " 6   qualificationLibelle    237 non-null    object\n",
      " 7   departement             411 non-null    object\n",
      " 8   ville                   350 non-null    object\n",
      " 9   experienceOuiNon        411 non-null    object\n",
      " 10  entreprise_nom          275 non-null    object\n",
      " 11  entreprise_description  261 non-null    object\n",
      " 12  salaire                 212 non-null    object\n",
      " 13  profils                 144 non-null    object\n",
      "dtypes: object(14)\n",
      "memory usage: 48.2+ KB\n"
     ]
    }
   ],
   "source": [
    "jobs.info()"
   ]
  },
  {
   "cell_type": "code",
   "execution_count": 106,
   "metadata": {},
   "outputs": [],
   "source": [
    "df = pd.merge(jobs, cities, how='left', on='ville')"
   ]
  },
  {
   "cell_type": "code",
   "execution_count": 107,
   "metadata": {},
   "outputs": [
    {
     "name": "stdout",
     "output_type": "stream",
     "text": [
      "<class 'pandas.core.frame.DataFrame'>\n",
      "Int64Index: 411 entries, 0 to 410\n",
      "Data columns (total 19 columns):\n",
      " #   Column                  Non-Null Count  Dtype  \n",
      "---  ------                  --------------  -----  \n",
      " 0   intitule                411 non-null    object \n",
      " 1   description_offre       411 non-null    object \n",
      " 2   dateCreation            411 non-null    object \n",
      " 3   typeContrat             411 non-null    object \n",
      " 4   experienceExige         267 non-null    object \n",
      " 5   secteurActiviteLibelle  267 non-null    object \n",
      " 6   qualificationLibelle    237 non-null    object \n",
      " 7   departement             411 non-null    object \n",
      " 8   ville                   350 non-null    object \n",
      " 9   experienceOuiNon        411 non-null    object \n",
      " 10  entreprise_nom          275 non-null    object \n",
      " 11  entreprise_description  261 non-null    object \n",
      " 12  salaire                 212 non-null    object \n",
      " 13  profils                 144 non-null    object \n",
      " 14  code_postal             294 non-null    float64\n",
      " 15  latitude                294 non-null    float64\n",
      " 16  longitude               294 non-null    float64\n",
      " 17  department_name         294 non-null    object \n",
      " 18  region                  294 non-null    object \n",
      "dtypes: float64(3), object(16)\n",
      "memory usage: 64.2+ KB\n"
     ]
    }
   ],
   "source": [
    "df.info()"
   ]
  },
  {
   "cell_type": "code",
   "execution_count": 108,
   "metadata": {},
   "outputs": [],
   "source": [
    "# fusion des colonnes profil et description\n",
    "# df['nouvelle_colonne'] = df['profils'] + ' ' + df['description_offre']\n",
    "# df = df.drop(columns=['profils'])"
   ]
  },
  {
   "cell_type": "code",
   "execution_count": 109,
   "metadata": {},
   "outputs": [],
   "source": [
    "# df.info()"
   ]
  },
  {
   "cell_type": "markdown",
   "metadata": {},
   "source": [
    "## Transformation variable \"Salaire\""
   ]
  },
  {
   "cell_type": "code",
   "execution_count": 110,
   "metadata": {},
   "outputs": [],
   "source": [
    "import re\n",
    "import numpy as np"
   ]
  },
  {
   "cell_type": "code",
   "execution_count": 111,
   "metadata": {},
   "outputs": [],
   "source": [
    "#transformation des donnes type \"Annuel de 40,00 Euros à 60,00 Euros\" en \"Annuel de 40000 Euros à 60000 Euros\":\n",
    "#transformation des données de type 'Mensuel de 1136,00 Euros sur 12 mois':\n",
    "df['salaire'] = df['salaire'].replace('Mensuel de 1136,00 Euros sur 12 mois', 'Annuel de 13632,00')\n",
    "df['salaire'] = df['salaire'].replace('Mensuel de 4000,00 Euros à 5000,00 Euros sur 12 mois', 'Annuel de 48000,00 Euros à 60000,00 Euros sur 12 mois')\n",
    "df['salaire'] = df['salaire'].replace('Annuel de 40,00 Euros à 60,00 Euros', 'Annuel de 40000,00 Euros à 60000,00 Euros')\n",
    "df['salaire'] = df['salaire'].replace('Annuel de 50,00 Euros à 70,00 Euros', 'Annuel de 50000,00 Euros à 70000,00 Euros')\n",
    "df['salaire'] = df['salaire'].replace('Annuel de 26000 Euros à 36000 Euros sur 12 mois', 'Annuel de 26000,00 Euros à 36000,00 Euros sur 12 mois')"
   ]
  },
  {
   "cell_type": "code",
   "execution_count": 112,
   "metadata": {},
   "outputs": [],
   "source": [
    "df['salaire'] = df['salaire'].astype(str)"
   ]
  },
  {
   "cell_type": "code",
   "execution_count": 113,
   "metadata": {},
   "outputs": [],
   "source": [
    "def extract_salaire_min(salaire):\n",
    "    match = re.search(r'(\\d+,\\d+)', salaire)\n",
    "    return float(match.group(1).replace(',', '.')) if match else None\n",
    "\n",
    "def extract_salaire_max(salaire):\n",
    "    match = re.search(r'(\\d+,\\d+)(?: Euros à (\\d+,\\d+))?', salaire)\n",
    "    return float(match.group(2).replace(',', '.')) if match and match.group(2) else None\n",
    "\n",
    "df['salaire_min_annuel'] = df['salaire'].apply(extract_salaire_min)\n",
    "df['salaire_max_annuel'] = df['salaire'].apply(extract_salaire_max)\n"
   ]
  },
  {
   "cell_type": "code",
   "execution_count": 114,
   "metadata": {},
   "outputs": [],
   "source": [
    "df['salaire_min_annuel'] = pd.to_numeric(df['salaire_min_annuel'].replace('nan', np.nan), errors='coerce')\n",
    "df['salaire_max_annuel'] = pd.to_numeric(df['salaire_max_annuel'].replace('nan', np.nan), errors='coerce')\n",
    "df['salaire'] = df['salaire'].replace('nan', np.nan)"
   ]
  },
  {
   "cell_type": "code",
   "execution_count": 115,
   "metadata": {},
   "outputs": [],
   "source": [
    "#Création de la variable 'salaire_annuel_mean':\n",
    "df['salaire_annuel_mean'] = np.where(df['salaire_max_annuel'].notnull(),\n",
    "                                     (df['salaire_min_annuel'] + df['salaire_max_annuel']) / 2,\n",
    "                                     df['salaire_min_annuel'])"
   ]
  },
  {
   "cell_type": "markdown",
   "metadata": {},
   "source": [
    "## Renommage des colonnes"
   ]
  },
  {
   "cell_type": "code",
   "execution_count": 116,
   "metadata": {},
   "outputs": [],
   "source": [
    "# renommer les colonnes (pour la base de donnée)\n",
    "df = df.rename(columns={'dateCreation':'date_creation', 'qualificationLibelle':'qualification_libelle', 'experienceOuiNon':\"experience\", 'typeContrat':'type_contrat', 'secteurActiviteLibelle':'secteur_activite', 'codePostal':'code_postal', 'department_name':'departement_nom', 'profils':'profil' })"
   ]
  },
  {
   "cell_type": "markdown",
   "metadata": {},
   "source": [
    "## Creation de la colonne 'poste'"
   ]
  },
  {
   "cell_type": "code",
   "execution_count": 117,
   "metadata": {},
   "outputs": [],
   "source": [
    "def categorize_poste(row):\n",
    "    intitule_lower = row['intitule'].lower()\n",
    "    if 'data scientist' in intitule_lower or 'ingénieur data scientist' in intitule_lower:\n",
    "        return 'data scientist'\n",
    "    elif 'data engineer' in intitule_lower or 'engineer' in intitule_lower or 'ingénieur' in intitule_lower or 'engineering' in intitule_lower :\n",
    "        return 'data engineer'\n",
    "\n",
    "\n",
    "# Apply the categorize_poste function to create the 'poste' column\n",
    "df['poste'] = df.apply(categorize_poste, axis=1)"
   ]
  },
  {
   "cell_type": "code",
   "execution_count": 118,
   "metadata": {},
   "outputs": [
    {
     "name": "stdout",
     "output_type": "stream",
     "text": [
      "<class 'pandas.core.frame.DataFrame'>\n",
      "Int64Index: 411 entries, 0 to 410\n",
      "Data columns (total 23 columns):\n",
      " #   Column                  Non-Null Count  Dtype  \n",
      "---  ------                  --------------  -----  \n",
      " 0   intitule                411 non-null    object \n",
      " 1   description_offre       411 non-null    object \n",
      " 2   date_creation           411 non-null    object \n",
      " 3   type_contrat            411 non-null    object \n",
      " 4   experienceExige         267 non-null    object \n",
      " 5   secteur_activite        267 non-null    object \n",
      " 6   qualification_libelle   237 non-null    object \n",
      " 7   departement             411 non-null    object \n",
      " 8   ville                   350 non-null    object \n",
      " 9   experience              411 non-null    object \n",
      " 10  entreprise_nom          275 non-null    object \n",
      " 11  entreprise_description  261 non-null    object \n",
      " 12  salaire                 212 non-null    object \n",
      " 13  profil                  144 non-null    object \n",
      " 14  code_postal             294 non-null    float64\n",
      " 15  latitude                294 non-null    float64\n",
      " 16  longitude               294 non-null    float64\n",
      " 17  departement_nom         294 non-null    object \n",
      " 18  region                  294 non-null    object \n",
      " 19  salaire_min_annuel      68 non-null     float64\n",
      " 20  salaire_max_annuel      62 non-null     float64\n",
      " 21  salaire_annuel_mean     68 non-null     float64\n",
      " 22  poste                   376 non-null    object \n",
      "dtypes: float64(6), object(17)\n",
      "memory usage: 77.1+ KB\n"
     ]
    }
   ],
   "source": [
    "df.info()"
   ]
  },
  {
   "cell_type": "code",
   "execution_count": 119,
   "metadata": {},
   "outputs": [
    {
     "name": "stdout",
     "output_type": "stream",
     "text": [
      "    poste                                           intitule  \\\n",
      "146  None                      Consultant Data - AIX ((H/F))   \n",
      "147  None  Data Steward - Responsable gestion de données ...   \n",
      "149  None  STAGE_Marketing strategy and tech analyst F/H ...   \n",
      "154  None  Stagiaire Project Manager Dashboard Ops e-comm...   \n",
      "170  None               Data & AI Strategy Manager F/H (H/F)   \n",
      "172  None                         Développeur Java F/H (H/F)   \n",
      "178  None                            DATASCIENTIST F/H (H/F)   \n",
      "190  None  Business data analyste informatique (H/F) (IT)...   \n",
      "191  None  Data analyste informatique confirmé (IT) / Fre...   \n",
      "192  None  Expert big data / Hadoop / Cloudera (Rodez) H/...   \n",
      "193  None  Data analyste informatique (H/F) (IT) / Freelance   \n",
      "194  None  Data analyste informatiquee DATAIKU (IT) / Fre...   \n",
      "195  None  Data analyste informatique (H/F) (IT) / Freelance   \n",
      "199  None                           Ingenieur Big Data (H/F)   \n",
      "208  None  SAP Master Data Expert F/H - Système, réseaux,...   \n",
      "209  None  Data analyste informatique (H/F) - Hybride (94...   \n",
      "211  None                           Data Analyst (F/H) (H/F)   \n",
      "212  None  CHEF(FE) DE PROJET DATASCIENCE  « INFRACTIONS ...   \n",
      "219  None  DATA analyste informatique EXPERT SQL (IT) / F...   \n",
      "220  None                       Responsable de Pôle Data H/F   \n",
      "225  None                Data Analyst RSE confirmé F/H (H/F)   \n",
      "226  None  Data analyste informatique GCP Looker (IT) / F...   \n",
      "235  None  Data analyste informatique (IT) / Freelance (H/F)   \n",
      "238  None  Data analyste informatique Python Montpellier ...   \n",
      "239  None                                 Data Analyst - H/F   \n",
      "242  None     CDI - DATA ANALYST SENIOR DROM - (F/H/X) (H/F)   \n",
      "249  None  Data analyste informatique (IT) / Freelance (H/F)   \n",
      "250  None  data analyste informatique UML (IT) / Freelanc...   \n",
      "251  None  Lead data analyste informatique (H/F) (IT) / F...   \n",
      "252  None                              Consultant Data (H/F)   \n",
      "254  None  Web and Data analyste informatique / Python / ...   \n",
      "256  None  Data analyste informatique Confirmé/Expert (IT...   \n",
      "257  None  Data analyste informatiquee (IT) / Freelance (...   \n",
      "262  None      CDI - Global Finance Data Analyst (W/M) (H/F)   \n",
      "410  None            Développeur Datascience Flux Vision F/H   \n",
      "\n",
      "                                     description_offre  \n",
      "146  RESPONSABILITÉS : \\r\\n\\r\\nVos missions ?\\r\\nIn...  \n",
      "147  Descriptif du poste:\\r\\nDans le cadre de notre...  \n",
      "149  Le saviez-vous ? :\\r\\n\\r\\nNous rejoindre, c'es...  \n",
      "154  Le saviez-vous ? :\\r\\n\\r\\nNous rejoindre, c'es...  \n",
      "170  Nous rejoindre, c'est rejoindre l'un des leade...  \n",
      "172  Le saviez-vous ? \\r\\n\\r\\nNous rejoindre, c'est...  \n",
      "178  Référence CSP: 2023-1428695 \\r\\n Au sein de la...  \n",
      "190  L?IT contracting recherche pour l?un de ses cl...  \n",
      "191  Contexte : Un grand groupe recherche un Data A...  \n",
      "192  Notre client dans le secteur Banque et finance...  \n",
      "193  Espace-Freelance, réseau de consultants indépe...  \n",
      "194  Je recherche un Consultant - Data Analyste Gén...  \n",
      "195  Insitoo Freelance, facilitateur du freelancing...  \n",
      "199  Nous recherchons un Ingénieur Big Data (H/F) p...  \n",
      "208  Descriptif du poste:\\r\\n\\r\\nNous recherchons u...  \n",
      "209  Le périmètre de cette prestation consiste en l...  \n",
      "211  Le saviez-vous ? :\\r\\nNous rejoindre, cest rej...  \n",
      "212  Référence CSP: 2023-1422691 \\r\\n Groupe RIFSEE...  \n",
      "219  - Vous participerez à l?analyse et à la résolu...  \n",
      "220  POSTE : Responsable de Pôle Data H/F\\r\\nDESCRI...  \n",
      "225  Le saviez-vous ? :\\r\\nNous rejoindre, cest rej...  \n",
      "226  Livrables :\\r\\n- Tables et vues BigQuery\\r\\n- ...  \n",
      "235  Date démarrage : fin d?année fin février max a...  \n",
      "238  Data analyst Python Montpellier\\r\\n+ 1j/3sem à...  \n",
      "239  Description :\\r\\nDescription\\r\\nL COMMERCE est...  \n",
      "242  Bienvenue chez CANAL+ Group ! Séries, films, d...  \n",
      "249  Mission Long Terme:\\r\\nNous recherchons un Dat...  \n",
      "250  Nous sommes actuellement à la recherche d?un a...  \n",
      "251  Insitoo Freelance, facilitateur du freelancing...  \n",
      "252  Qui sommes-nous ?\\r\\n\\r\\nNous sommes passionné...  \n",
      "254  PAS DE SOUS-TRAITANCE // MERCI\\r\\nPour un proj...  \n",
      "256  Responsabilités:\\r\\nPrendre en charge les extr...  \n",
      "257  Nous recherchons pour l?un de nos clients, un(...  \n",
      "262  .\\r\\nChez Sephora, nous sommes unis et défendo...  \n",
      "410  Description de la mission :\\r\\n\\r\\nLa croissan...  \n",
      "(35, 3)\n"
     ]
    }
   ],
   "source": [
    "filtered_df = df.loc[df['poste'].isna(), ['poste', 'intitule', 'description_offre']]\n",
    "print(filtered_df)\n",
    "print(filtered_df.shape)"
   ]
  },
  {
   "cell_type": "code",
   "execution_count": 120,
   "metadata": {},
   "outputs": [],
   "source": [
    "# suppression des postes qui ne sont ni data scientist ni data ingénieur\n",
    "df.dropna(subset=['poste'], inplace=True)"
   ]
  },
  {
   "cell_type": "code",
   "execution_count": 121,
   "metadata": {},
   "outputs": [
    {
     "name": "stdout",
     "output_type": "stream",
     "text": [
      "<class 'pandas.core.frame.DataFrame'>\n",
      "Int64Index: 376 entries, 0 to 409\n",
      "Data columns (total 23 columns):\n",
      " #   Column                  Non-Null Count  Dtype  \n",
      "---  ------                  --------------  -----  \n",
      " 0   intitule                376 non-null    object \n",
      " 1   description_offre       376 non-null    object \n",
      " 2   date_creation           376 non-null    object \n",
      " 3   type_contrat            376 non-null    object \n",
      " 4   experienceExige         233 non-null    object \n",
      " 5   secteur_activite        258 non-null    object \n",
      " 6   qualification_libelle   226 non-null    object \n",
      " 7   departement             376 non-null    object \n",
      " 8   ville                   324 non-null    object \n",
      " 9   experience              376 non-null    object \n",
      " 10  entreprise_nom          270 non-null    object \n",
      " 11  entreprise_description  250 non-null    object \n",
      " 12  salaire                 209 non-null    object \n",
      " 13  profil                  143 non-null    object \n",
      " 14  code_postal             271 non-null    float64\n",
      " 15  latitude                271 non-null    float64\n",
      " 16  longitude               271 non-null    float64\n",
      " 17  departement_nom         271 non-null    object \n",
      " 18  region                  271 non-null    object \n",
      " 19  salaire_min_annuel      66 non-null     float64\n",
      " 20  salaire_max_annuel      60 non-null     float64\n",
      " 21  salaire_annuel_mean     66 non-null     float64\n",
      " 22  poste                   376 non-null    object \n",
      "dtypes: float64(6), object(17)\n",
      "memory usage: 70.5+ KB\n"
     ]
    }
   ],
   "source": [
    "df.info()"
   ]
  },
  {
   "cell_type": "code",
   "execution_count": 122,
   "metadata": {},
   "outputs": [
    {
     "data": {
      "text/plain": [
       "data engineer     238\n",
       "data scientist    138\n",
       "Name: poste, dtype: int64"
      ]
     },
     "execution_count": 122,
     "metadata": {},
     "output_type": "execute_result"
    }
   ],
   "source": [
    "df['poste'].value_counts()"
   ]
  },
  {
   "cell_type": "code",
   "execution_count": 123,
   "metadata": {},
   "outputs": [],
   "source": [
    "df.to_csv('Jobs_V4.csv', index=False)"
   ]
  }
 ],
 "metadata": {
  "kernelspec": {
   "display_name": "base",
   "language": "python",
   "name": "python3"
  },
  "language_info": {
   "codemirror_mode": {
    "name": "ipython",
    "version": 3
   },
   "file_extension": ".py",
   "mimetype": "text/x-python",
   "name": "python",
   "nbconvert_exporter": "python",
   "pygments_lexer": "ipython3",
   "version": "3.11.2"
  }
 },
 "nbformat": 4,
 "nbformat_minor": 2
}
